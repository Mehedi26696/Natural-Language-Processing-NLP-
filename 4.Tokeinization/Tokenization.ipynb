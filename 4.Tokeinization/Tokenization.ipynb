{
 "cells": [
  {
   "cell_type": "markdown",
   "id": "0e97c69c-5961-4105-baaa-1e7160fef521",
   "metadata": {},
   "source": [
    "<center><h1 style=\"color:green\">Tokenization</center>"
   ]
  },
  {
   "cell_type": "code",
   "execution_count": 1,
   "id": "c03ad9fc-d8d2-45b1-8913-16db7421072b",
   "metadata": {},
   "outputs": [],
   "source": [
    "import spacy"
   ]
  },
  {
   "cell_type": "markdown",
   "id": "ac347648-ab52-4e65-9006-e9f05740e10e",
   "metadata": {},
   "source": [
    "<b>Create blank language object and tokenize words in a sentence"
   ]
  },
  {
   "cell_type": "code",
   "execution_count": 2,
   "id": "8d1a25c5-f486-41e7-abe1-63ed881e620b",
   "metadata": {},
   "outputs": [],
   "source": [
    "nlp = spacy.blank(\"en\")"
   ]
  },
  {
   "cell_type": "code",
   "execution_count": 11,
   "id": "0dc810d9-0f15-49b1-9aed-24304c6c3f1c",
   "metadata": {},
   "outputs": [],
   "source": [
    "doc = nlp(\"Let's go to N.Y.!\")"
   ]
  },
  {
   "cell_type": "code",
   "execution_count": 12,
   "id": "3477c2ca-9a24-4de3-b240-f62aa2a94e6c",
   "metadata": {},
   "outputs": [
    {
     "name": "stdout",
     "output_type": "stream",
     "text": [
      "Let\n",
      "'s\n",
      "go\n",
      "to\n",
      "N.Y.\n",
      "!\n"
     ]
    }
   ],
   "source": [
    "for token in doc:\n",
    "    print(token)"
   ]
  },
  {
   "cell_type": "code",
   "execution_count": 13,
   "id": "87a18c28-1c8a-4da4-b4f9-c63dc0268475",
   "metadata": {},
   "outputs": [],
   "source": [
    "doc = nlp('''\"Let's go to N.Y.!\"''')"
   ]
  },
  {
   "cell_type": "code",
   "execution_count": 14,
   "id": "6deeae77-d3e2-4b8f-b82c-8d8e2337f383",
   "metadata": {},
   "outputs": [
    {
     "name": "stdout",
     "output_type": "stream",
     "text": [
      "\"\n",
      "Let\n",
      "'s\n",
      "go\n",
      "to\n",
      "N.Y.\n",
      "!\n",
      "\"\n"
     ]
    }
   ],
   "source": [
    "for token in doc:\n",
    "    print(token)"
   ]
  },
  {
   "cell_type": "code",
   "execution_count": 15,
   "id": "dbb27097-debd-47d9-86cc-860eb110779d",
   "metadata": {},
   "outputs": [],
   "source": [
    "doc = nlp(\"Dr. Strange loves biriyani of Dhaka as it costs only 2$ per plate.\")"
   ]
  },
  {
   "cell_type": "code",
   "execution_count": 16,
   "id": "8446d2d5-3006-4778-bced-f4e6f5faeb30",
   "metadata": {},
   "outputs": [
    {
     "name": "stdout",
     "output_type": "stream",
     "text": [
      "Dr.\n",
      "Strange\n",
      "loves\n",
      "biriyani\n",
      "of\n",
      "Dhaka\n",
      "as\n",
      "it\n",
      "costs\n",
      "only\n",
      "2\n",
      "$\n",
      "per\n",
      "plate\n",
      ".\n"
     ]
    }
   ],
   "source": [
    "for token in doc:\n",
    "    print(token)"
   ]
  },
  {
   "cell_type": "markdown",
   "id": "e5db4f8f-b19b-4d54-aa10-7bdd972ee07d",
   "metadata": {},
   "source": [
    "Creating blank language object gives a tokenizer and an empty pipeline."
   ]
  },
  {
   "cell_type": "markdown",
   "id": "04da2316-46e5-4743-8fa1-333f54040636",
   "metadata": {},
   "source": [
    "<img src=\"spacy_blank_pipeline.jpg\">"
   ]
  },
  {
   "cell_type": "markdown",
   "id": "c6cb64f0-64f7-4791-b576-f6dfc71c8a95",
   "metadata": {},
   "source": [
    "<b>Using index to grab tokens"
   ]
  },
  {
   "cell_type": "code",
   "execution_count": 17,
   "id": "f049d9a5-8053-4953-bf3d-4b3a8889ce8b",
   "metadata": {},
   "outputs": [
    {
     "data": {
      "text/plain": [
       "Dr."
      ]
     },
     "execution_count": 17,
     "metadata": {},
     "output_type": "execute_result"
    }
   ],
   "source": [
    "doc[0]"
   ]
  },
  {
   "cell_type": "code",
   "execution_count": 18,
   "id": "384931c4-47b2-4447-97af-c41853acbeb9",
   "metadata": {},
   "outputs": [
    {
     "data": {
      "text/plain": [
       "of"
      ]
     },
     "execution_count": 18,
     "metadata": {},
     "output_type": "execute_result"
    }
   ],
   "source": [
    "doc[4]"
   ]
  },
  {
   "cell_type": "code",
   "execution_count": 19,
   "id": "2fc3949a-2117-4f56-a44d-744285d84140",
   "metadata": {},
   "outputs": [
    {
     "data": {
      "text/plain": [
       "biriyani"
      ]
     },
     "execution_count": 19,
     "metadata": {},
     "output_type": "execute_result"
    }
   ],
   "source": [
    "doc[3]"
   ]
  },
  {
   "cell_type": "code",
   "execution_count": 20,
   "id": "fb8290b1-62cd-4a4f-8131-6a978bb99a1e",
   "metadata": {},
   "outputs": [
    {
     "data": {
      "text/plain": [
       "."
      ]
     },
     "execution_count": 20,
     "metadata": {},
     "output_type": "execute_result"
    }
   ],
   "source": [
    "doc[-1]"
   ]
  },
  {
   "cell_type": "code",
   "execution_count": 21,
   "id": "5fb47d5c-39b3-4fc5-b080-0d80c8f83903",
   "metadata": {},
   "outputs": [
    {
     "data": {
      "text/plain": [
       "'Strange'"
      ]
     },
     "execution_count": 21,
     "metadata": {},
     "output_type": "execute_result"
    }
   ],
   "source": [
    "token = doc[1]\n",
    "token.text"
   ]
  },
  {
   "cell_type": "code",
   "execution_count": 22,
   "id": "a69c85ee-e483-49b9-9f78-6d4a71c1faae",
   "metadata": {},
   "outputs": [
    {
     "data": {
      "text/plain": [
       "['_',\n",
       " '__bytes__',\n",
       " '__class__',\n",
       " '__delattr__',\n",
       " '__dir__',\n",
       " '__doc__',\n",
       " '__eq__',\n",
       " '__format__',\n",
       " '__ge__',\n",
       " '__getattribute__',\n",
       " '__gt__',\n",
       " '__hash__',\n",
       " '__init__',\n",
       " '__init_subclass__',\n",
       " '__le__',\n",
       " '__len__',\n",
       " '__lt__',\n",
       " '__ne__',\n",
       " '__new__',\n",
       " '__pyx_vtable__',\n",
       " '__reduce__',\n",
       " '__reduce_ex__',\n",
       " '__repr__',\n",
       " '__setattr__',\n",
       " '__sizeof__',\n",
       " '__str__',\n",
       " '__subclasshook__',\n",
       " '__unicode__',\n",
       " 'ancestors',\n",
       " 'check_flag',\n",
       " 'children',\n",
       " 'cluster',\n",
       " 'conjuncts',\n",
       " 'dep',\n",
       " 'dep_',\n",
       " 'doc',\n",
       " 'ent_id',\n",
       " 'ent_id_',\n",
       " 'ent_iob',\n",
       " 'ent_iob_',\n",
       " 'ent_kb_id',\n",
       " 'ent_kb_id_',\n",
       " 'ent_type',\n",
       " 'ent_type_',\n",
       " 'get_extension',\n",
       " 'has_dep',\n",
       " 'has_extension',\n",
       " 'has_head',\n",
       " 'has_morph',\n",
       " 'has_vector',\n",
       " 'head',\n",
       " 'i',\n",
       " 'idx',\n",
       " 'iob_strings',\n",
       " 'is_alpha',\n",
       " 'is_ancestor',\n",
       " 'is_ascii',\n",
       " 'is_bracket',\n",
       " 'is_currency',\n",
       " 'is_digit',\n",
       " 'is_left_punct',\n",
       " 'is_lower',\n",
       " 'is_oov',\n",
       " 'is_punct',\n",
       " 'is_quote',\n",
       " 'is_right_punct',\n",
       " 'is_sent_end',\n",
       " 'is_sent_start',\n",
       " 'is_space',\n",
       " 'is_stop',\n",
       " 'is_title',\n",
       " 'is_upper',\n",
       " 'lang',\n",
       " 'lang_',\n",
       " 'left_edge',\n",
       " 'lefts',\n",
       " 'lemma',\n",
       " 'lemma_',\n",
       " 'lex',\n",
       " 'lex_id',\n",
       " 'like_email',\n",
       " 'like_num',\n",
       " 'like_url',\n",
       " 'lower',\n",
       " 'lower_',\n",
       " 'morph',\n",
       " 'n_lefts',\n",
       " 'n_rights',\n",
       " 'nbor',\n",
       " 'norm',\n",
       " 'norm_',\n",
       " 'orth',\n",
       " 'orth_',\n",
       " 'pos',\n",
       " 'pos_',\n",
       " 'prefix',\n",
       " 'prefix_',\n",
       " 'prob',\n",
       " 'rank',\n",
       " 'remove_extension',\n",
       " 'right_edge',\n",
       " 'rights',\n",
       " 'sent',\n",
       " 'sent_start',\n",
       " 'sentiment',\n",
       " 'set_extension',\n",
       " 'set_morph',\n",
       " 'shape',\n",
       " 'shape_',\n",
       " 'similarity',\n",
       " 'subtree',\n",
       " 'suffix',\n",
       " 'suffix_',\n",
       " 'tag',\n",
       " 'tag_',\n",
       " 'tensor',\n",
       " 'text',\n",
       " 'text_with_ws',\n",
       " 'vector',\n",
       " 'vector_norm',\n",
       " 'vocab',\n",
       " 'whitespace_']"
      ]
     },
     "execution_count": 22,
     "metadata": {},
     "output_type": "execute_result"
    }
   ],
   "source": [
    "dir(token)"
   ]
  },
  {
   "cell_type": "code",
   "execution_count": 23,
   "id": "790cafee-b670-4d41-923f-b65e00004c94",
   "metadata": {},
   "outputs": [
    {
     "data": {
      "text/plain": [
       "spacy.lang.en.English"
      ]
     },
     "execution_count": 23,
     "metadata": {},
     "output_type": "execute_result"
    }
   ],
   "source": [
    "type(nlp)"
   ]
  },
  {
   "cell_type": "code",
   "execution_count": 24,
   "id": "43acc27b-035c-4ee9-a060-ca305ce63377",
   "metadata": {},
   "outputs": [
    {
     "data": {
      "text/plain": [
       "spacy.tokens.doc.Doc"
      ]
     },
     "execution_count": 24,
     "metadata": {},
     "output_type": "execute_result"
    }
   ],
   "source": [
    "type(doc)"
   ]
  },
  {
   "cell_type": "code",
   "execution_count": 25,
   "id": "49a4e959-c918-4ac4-a8f5-df82014eab65",
   "metadata": {},
   "outputs": [
    {
     "data": {
      "text/plain": [
       "spacy.tokens.token.Token"
      ]
     },
     "execution_count": 25,
     "metadata": {},
     "output_type": "execute_result"
    }
   ],
   "source": [
    "type(token)"
   ]
  },
  {
   "cell_type": "code",
   "execution_count": 26,
   "id": "b7179cc3-c72a-4417-b55e-3e59cf25675f",
   "metadata": {},
   "outputs": [
    {
     "data": {
      "text/plain": [
       "[]"
      ]
     },
     "execution_count": 26,
     "metadata": {},
     "output_type": "execute_result"
    }
   ],
   "source": [
    "nlp.pipe_names"
   ]
  },
  {
   "cell_type": "markdown",
   "id": "abe08b0f-e899-4779-9abb-64b27567b9b6",
   "metadata": {},
   "source": [
    "<b>Span object"
   ]
  },
  {
   "cell_type": "code",
   "execution_count": 29,
   "id": "9a4232f5-e237-449b-befe-bb6bf83ff635",
   "metadata": {},
   "outputs": [
    {
     "data": {
      "text/plain": [
       "Dr. Strange loves biriyani of"
      ]
     },
     "execution_count": 29,
     "metadata": {},
     "output_type": "execute_result"
    }
   ],
   "source": [
    "span = doc[0:5]\n",
    "span"
   ]
  },
  {
   "cell_type": "code",
   "execution_count": 30,
   "id": "3a038e2c-0ad4-47fd-a5a3-c95bb0fb8fe9",
   "metadata": {},
   "outputs": [
    {
     "data": {
      "text/plain": [
       "spacy.tokens.span.Span"
      ]
     },
     "execution_count": 30,
     "metadata": {},
     "output_type": "execute_result"
    }
   ],
   "source": [
    "type(span)"
   ]
  },
  {
   "cell_type": "markdown",
   "id": "cb7be583-709c-439d-b39b-50a832221c82",
   "metadata": {},
   "source": [
    "<b>Token attributes"
   ]
  },
  {
   "cell_type": "code",
   "execution_count": 31,
   "id": "a524ef6c-3647-4df6-b518-796a185141ae",
   "metadata": {},
   "outputs": [],
   "source": [
    "doc = nlp(\"Tony gave two $ to Peter.\")"
   ]
  },
  {
   "cell_type": "code",
   "execution_count": 32,
   "id": "a3f92884-4008-4433-9bb4-42088250a01f",
   "metadata": {},
   "outputs": [
    {
     "data": {
      "text/plain": [
       "Tony"
      ]
     },
     "execution_count": 32,
     "metadata": {},
     "output_type": "execute_result"
    }
   ],
   "source": [
    "token0 = doc[0]\n",
    "token0"
   ]
  },
  {
   "cell_type": "markdown",
   "id": "d543abca-4d46-48aa-94b8-85fe756dff6b",
   "metadata": {},
   "source": [
    "Output: True if the token is purely alphabetic, False otherwise"
   ]
  },
  {
   "cell_type": "code",
   "execution_count": 54,
   "id": "ebdd99eb-0a29-4101-9f6b-cee41a5feae8",
   "metadata": {},
   "outputs": [
    {
     "data": {
      "text/plain": [
       "True"
      ]
     },
     "execution_count": 54,
     "metadata": {},
     "output_type": "execute_result"
    }
   ],
   "source": [
    "token0.is_alpha "
   ]
  },
  {
   "cell_type": "code",
   "execution_count": 38,
   "id": "2ccb27af-3cbd-4f9a-9fb5-335270b0c9f0",
   "metadata": {},
   "outputs": [
    {
     "data": {
      "text/plain": [
       "$"
      ]
     },
     "execution_count": 38,
     "metadata": {},
     "output_type": "execute_result"
    }
   ],
   "source": [
    "doc[3]"
   ]
  },
  {
   "cell_type": "code",
   "execution_count": 39,
   "id": "2f15648e-6681-4728-b664-391c6b8d56fc",
   "metadata": {},
   "outputs": [
    {
     "data": {
      "text/plain": [
       "False"
      ]
     },
     "execution_count": 39,
     "metadata": {},
     "output_type": "execute_result"
    }
   ],
   "source": [
    "doc[3].is_alpha"
   ]
  },
  {
   "cell_type": "code",
   "execution_count": 46,
   "id": "26fe0e12-e8a9-448c-900d-eee560dea2a2",
   "metadata": {},
   "outputs": [
    {
     "data": {
      "text/plain": [
       "gave"
      ]
     },
     "execution_count": 46,
     "metadata": {},
     "output_type": "execute_result"
    }
   ],
   "source": [
    "doc[1]"
   ]
  },
  {
   "cell_type": "markdown",
   "id": "f804f780-15ad-4ec2-ada3-1a0cd4741cd6",
   "metadata": {},
   "source": [
    "Output: True if the token is number, False otherwise"
   ]
  },
  {
   "cell_type": "code",
   "execution_count": 53,
   "id": "01fbc961-5b9f-4cf1-9889-44d16587c894",
   "metadata": {},
   "outputs": [
    {
     "data": {
      "text/plain": [
       "False"
      ]
     },
     "execution_count": 53,
     "metadata": {},
     "output_type": "execute_result"
    }
   ],
   "source": [
    "doc[1].like_num"
   ]
  },
  {
   "cell_type": "code",
   "execution_count": 45,
   "id": "78a177c7-d7a1-42f3-bcd4-cd0a327d0a2e",
   "metadata": {},
   "outputs": [
    {
     "data": {
      "text/plain": [
       "two"
      ]
     },
     "execution_count": 45,
     "metadata": {},
     "output_type": "execute_result"
    }
   ],
   "source": [
    "doc[2]"
   ]
  },
  {
   "cell_type": "code",
   "execution_count": 44,
   "id": "37642426-233f-4944-99c9-0c0bdcb7e0c8",
   "metadata": {},
   "outputs": [
    {
     "data": {
      "text/plain": [
       "True"
      ]
     },
     "execution_count": 44,
     "metadata": {},
     "output_type": "execute_result"
    }
   ],
   "source": [
    "doc[2].like_num"
   ]
  },
  {
   "cell_type": "code",
   "execution_count": 47,
   "id": "c41f3542-1d06-4df5-9e9b-37f4d8a8b81c",
   "metadata": {},
   "outputs": [
    {
     "data": {
      "text/plain": [
       "$"
      ]
     },
     "execution_count": 47,
     "metadata": {},
     "output_type": "execute_result"
    }
   ],
   "source": [
    "doc[3]"
   ]
  },
  {
   "cell_type": "markdown",
   "id": "e40599d2-1d86-40a3-953c-e7892b29705f",
   "metadata": {},
   "source": [
    "Output: True if the token is currency, False otherwise"
   ]
  },
  {
   "cell_type": "code",
   "execution_count": 52,
   "id": "f390c7e0-ceb7-44b5-a4fe-7ed6563390d3",
   "metadata": {},
   "outputs": [
    {
     "data": {
      "text/plain": [
       "True"
      ]
     },
     "execution_count": 52,
     "metadata": {},
     "output_type": "execute_result"
    }
   ],
   "source": [
    "doc[3].is_currency"
   ]
  },
  {
   "cell_type": "code",
   "execution_count": 55,
   "id": "c6b27e1d-306e-49af-826b-6d77f4e100ee",
   "metadata": {},
   "outputs": [
    {
     "name": "stdout",
     "output_type": "stream",
     "text": [
      "Tony ==> index:  0 is_alpha: True is_punct: False like_num: False is_currency: False\n",
      "gave ==> index:  1 is_alpha: True is_punct: False like_num: False is_currency: False\n",
      "two ==> index:  2 is_alpha: True is_punct: False like_num: True is_currency: False\n",
      "$ ==> index:  3 is_alpha: False is_punct: False like_num: False is_currency: True\n",
      "to ==> index:  4 is_alpha: True is_punct: False like_num: False is_currency: False\n",
      "Peter ==> index:  5 is_alpha: True is_punct: False like_num: False is_currency: False\n",
      ". ==> index:  6 is_alpha: False is_punct: True like_num: False is_currency: False\n"
     ]
    }
   ],
   "source": [
    "for token in doc:\n",
    "    print(token, \"==>\", \"index: \", token.i, \"is_alpha:\", token.is_alpha, \n",
    "          \"is_punct:\", token.is_punct, \n",
    "          \"like_num:\", token.like_num,\n",
    "          \"is_currency:\", token.is_currency,\n",
    "         )"
   ]
  },
  {
   "cell_type": "markdown",
   "id": "6b22bb88-2a6d-4d3e-baef-44f0ca95aef2",
   "metadata": {},
   "source": [
    "<b>Collecting email ids of students from students information sheet"
   ]
  },
  {
   "cell_type": "code",
   "execution_count": 58,
   "id": "731eab04-e84c-4e71-9f40-7ab4b553421a",
   "metadata": {},
   "outputs": [
    {
     "data": {
      "text/plain": [
       "['\\n',\n",
       " 'Dayton high school, 8th grade students information\\n',\n",
       " '==================================================\\n',\n",
       " '\\n',\n",
       " 'Name\\tbirth day   \\temail\\n',\n",
       " '-----\\t------------\\t------\\n',\n",
       " 'Virat   5 June, 1882    virat@kohli.com\\n',\n",
       " 'Maria\\t12 April, 2001  maria@sharapova.com\\n',\n",
       " 'Serena  24 June, 1998   serena@williams.com \\n',\n",
       " 'Joe      1 May, 1997    joe@root.com']"
      ]
     },
     "execution_count": 58,
     "metadata": {},
     "output_type": "execute_result"
    }
   ],
   "source": [
    "with open(\"student.txt\") as f:\n",
    "    text = f.readlines()\n",
    "text"
   ]
  },
  {
   "cell_type": "code",
   "execution_count": 59,
   "id": "ef5955bf-a35b-4485-b45c-64abcffd4705",
   "metadata": {},
   "outputs": [
    {
     "data": {
      "text/plain": [
       "'\\n Dayton high school, 8th grade students information\\n ==================================================\\n \\n Name\\tbirth day   \\temail\\n -----\\t------------\\t------\\n Virat   5 June, 1882    virat@kohli.com\\n Maria\\t12 April, 2001  maria@sharapova.com\\n Serena  24 June, 1998   serena@williams.com \\n Joe      1 May, 1997    joe@root.com'"
      ]
     },
     "execution_count": 59,
     "metadata": {},
     "output_type": "execute_result"
    }
   ],
   "source": [
    "text = \" \".join(text)\n",
    "text"
   ]
  },
  {
   "cell_type": "code",
   "execution_count": 60,
   "id": "8929006c-d317-49a0-98b8-a3c2bddeac25",
   "metadata": {},
   "outputs": [
    {
     "data": {
      "text/plain": [
       "['virat@kohli.com',\n",
       " 'maria@sharapova.com',\n",
       " 'serena@williams.com',\n",
       " 'joe@root.com']"
      ]
     },
     "execution_count": 60,
     "metadata": {},
     "output_type": "execute_result"
    }
   ],
   "source": [
    "doc = nlp(text)\n",
    "emails = []\n",
    "for token in doc:\n",
    "    if token.like_email:\n",
    "        emails.append(token.text)\n",
    "emails "
   ]
  },
  {
   "cell_type": "markdown",
   "id": "e2cb3967-6f33-4096-999e-baadff19bf76",
   "metadata": {},
   "source": [
    "<b>Support in other languages</b><br>\n",
    "Spacy support many language models. Some of them do not support pipelines though! https://spacy.io/usage/models#languages"
   ]
  },
  {
   "cell_type": "code",
   "execution_count": 72,
   "id": "95f0d0ac-665a-4865-9670-aefaedccf5fd",
   "metadata": {},
   "outputs": [
    {
     "name": "stdout",
     "output_type": "stream",
     "text": [
      "ভাই\n",
      "!\n",
      "৫০০০\n",
      "৳\n",
      "ঋণ\n",
      "ছিল\n",
      ",\n",
      "সেটা\n",
      "ফেরত\n",
      "দিয়ে\n",
      "দিন\n",
      "।\n"
     ]
    }
   ],
   "source": [
    "nlp = spacy.blank(\"bn\")\n",
    "doc = nlp(\"ভাই! ৫০০০ ৳ ঋণ ছিল, সেটা ফেরত দিয়ে দিন।\")\n",
    "for token in doc:\n",
    "    print(token)"
   ]
  },
  {
   "cell_type": "code",
   "execution_count": 73,
   "id": "7abadf6b-6543-419d-9f1b-b9964695b455",
   "metadata": {},
   "outputs": [
    {
     "data": {
      "text/plain": [
       "True"
      ]
     },
     "execution_count": 73,
     "metadata": {},
     "output_type": "execute_result"
    }
   ],
   "source": [
    "doc[2].like_num"
   ]
  },
  {
   "cell_type": "code",
   "execution_count": 74,
   "id": "feea30f0-f698-4e2a-899b-45649c325f47",
   "metadata": {},
   "outputs": [
    {
     "data": {
      "text/plain": [
       "৳"
      ]
     },
     "execution_count": 74,
     "metadata": {},
     "output_type": "execute_result"
    }
   ],
   "source": [
    "doc[3]"
   ]
  },
  {
   "cell_type": "code",
   "execution_count": 75,
   "id": "9a6ad397-70ba-4f33-8a07-9dc0674c2af6",
   "metadata": {},
   "outputs": [
    {
     "data": {
      "text/plain": [
       "True"
      ]
     },
     "execution_count": 75,
     "metadata": {},
     "output_type": "execute_result"
    }
   ],
   "source": [
    "doc[3].is_currency"
   ]
  },
  {
   "cell_type": "markdown",
   "id": "9d0e2f00-6583-4432-b651-e9c5ba4277cb",
   "metadata": {},
   "source": [
    "<b>Customizing tokenizer"
   ]
  },
  {
   "cell_type": "code",
   "execution_count": 76,
   "id": "57557a67-2bca-467f-8817-88a746cfcdf6",
   "metadata": {},
   "outputs": [
    {
     "data": {
      "text/plain": [
       "['gimme', 'double', 'cheese', 'extra', 'large', 'healthy', 'pizza']"
      ]
     },
     "execution_count": 76,
     "metadata": {},
     "output_type": "execute_result"
    }
   ],
   "source": [
    "from spacy.symbols import ORTH\n",
    "\n",
    "nlp = spacy.blank(\"en\")\n",
    "doc = nlp(\"gimme double cheese extra large healthy pizza\")\n",
    "tokens = [token.text for token in doc]\n",
    "tokens"
   ]
  },
  {
   "cell_type": "code",
   "execution_count": 77,
   "id": "c974e84b-aa98-4c4e-820c-6a30b64c3e9f",
   "metadata": {},
   "outputs": [
    {
     "data": {
      "text/plain": [
       "['gim', 'me', 'double', 'cheese', 'extra', 'large', 'healthy', 'pizza']"
      ]
     },
     "execution_count": 77,
     "metadata": {},
     "output_type": "execute_result"
    }
   ],
   "source": [
    "nlp.tokenizer.add_special_case(\"gimme\", [\n",
    "    {ORTH: \"gim\"},\n",
    "    {ORTH: \"me\"},\n",
    "])\n",
    "doc = nlp(\"gimme double cheese extra large healthy pizza\")\n",
    "tokens = [token.text for token in doc]\n",
    "tokens"
   ]
  },
  {
   "cell_type": "markdown",
   "id": "359c099e-91f2-4995-8243-5f92ba846e03",
   "metadata": {},
   "source": [
    "<b>Sentence Tokenization or Segmentation"
   ]
  },
  {
   "cell_type": "code",
   "execution_count": 86,
   "id": "feb461bd-cd86-49bb-8872-2e73f1979e9b",
   "metadata": {},
   "outputs": [
    {
     "ename": "ValueError",
     "evalue": "[E030] Sentence boundaries unset. You can add the 'sentencizer' component to the pipeline with: `nlp.add_pipe('sentencizer')`. Alternatively, add the dependency parser or sentence recognizer, or set sentence boundaries by setting `doc[i].is_sent_start`.",
     "output_type": "error",
     "traceback": [
      "\u001b[1;31m---------------------------------------------------------------------------\u001b[0m",
      "\u001b[1;31mValueError\u001b[0m                                Traceback (most recent call last)",
      "Cell \u001b[1;32mIn[86], line 3\u001b[0m\n\u001b[0;32m      1\u001b[0m nlp \u001b[38;5;241m=\u001b[39m spacy\u001b[38;5;241m.\u001b[39mblank(\u001b[38;5;124m\"\u001b[39m\u001b[38;5;124men\u001b[39m\u001b[38;5;124m\"\u001b[39m)\n\u001b[0;32m      2\u001b[0m doc \u001b[38;5;241m=\u001b[39m nlp(\u001b[38;5;124m\"\u001b[39m\u001b[38;5;124mDr. Strange loves biriyani of Dhaka.It costs only 2$ per plate.\u001b[39m\u001b[38;5;124m\"\u001b[39m)\n\u001b[1;32m----> 3\u001b[0m \u001b[38;5;28;01mfor\u001b[39;00m sentence \u001b[38;5;129;01min\u001b[39;00m doc\u001b[38;5;241m.\u001b[39msents:\n\u001b[0;32m      4\u001b[0m     \u001b[38;5;28mprint\u001b[39m(sentence)\n",
      "File \u001b[1;32m~\\AppData\\Local\\Programs\\Python\\Python310\\lib\\site-packages\\spacy\\tokens\\doc.pyx:926\u001b[0m, in \u001b[0;36msents\u001b[1;34m()\u001b[0m\n",
      "\u001b[1;31mValueError\u001b[0m: [E030] Sentence boundaries unset. You can add the 'sentencizer' component to the pipeline with: `nlp.add_pipe('sentencizer')`. Alternatively, add the dependency parser or sentence recognizer, or set sentence boundaries by setting `doc[i].is_sent_start`."
     ]
    }
   ],
   "source": [
    "nlp = spacy.blank(\"en\")\n",
    "doc = nlp(\"Dr. Strange loves biriyani of Dhaka.It costs only 2$ per plate.\")\n",
    "for sentence in doc.sents:\n",
    "    print(sentence)"
   ]
  },
  {
   "cell_type": "code",
   "execution_count": 81,
   "id": "182d57f3-3b9b-465d-9fd0-944f2f596e62",
   "metadata": {},
   "outputs": [
    {
     "data": {
      "text/plain": [
       "[]"
      ]
     },
     "execution_count": 81,
     "metadata": {},
     "output_type": "execute_result"
    }
   ],
   "source": [
    "nlp.pipeline"
   ]
  },
  {
   "cell_type": "code",
   "execution_count": 87,
   "id": "dbc4886c-7963-4ebd-b3c1-45ad9bb1a906",
   "metadata": {},
   "outputs": [
    {
     "data": {
      "text/plain": [
       "<spacy.pipeline.sentencizer.Sentencizer at 0x151ad715b40>"
      ]
     },
     "execution_count": 87,
     "metadata": {},
     "output_type": "execute_result"
    }
   ],
   "source": [
    "nlp.add_pipe('sentencizer')"
   ]
  },
  {
   "cell_type": "code",
   "execution_count": 88,
   "id": "bc415e9a-1d1d-4d22-96bb-2df7c6e634da",
   "metadata": {},
   "outputs": [
    {
     "data": {
      "text/plain": [
       "[('sentencizer', <spacy.pipeline.sentencizer.Sentencizer at 0x151ad715b40>)]"
      ]
     },
     "execution_count": 88,
     "metadata": {},
     "output_type": "execute_result"
    }
   ],
   "source": [
    "nlp.pipeline"
   ]
  },
  {
   "cell_type": "code",
   "execution_count": 89,
   "id": "e06cb459-43e1-45aa-9733-388949ef77af",
   "metadata": {},
   "outputs": [
    {
     "name": "stdout",
     "output_type": "stream",
     "text": [
      "Dr. Strange loves biriyani of Dhaka.\n",
      "It costs only 2$ per plate.\n"
     ]
    }
   ],
   "source": [
    "doc = nlp(\"Dr. Strange loves biriyani of Dhaka. It costs only 2$ per plate.\")\n",
    "for sentence in doc.sents:\n",
    "    print(sentence)"
   ]
  },
  {
   "cell_type": "markdown",
   "id": "5716b180-6e61-424b-9a7f-90d50186434e",
   "metadata": {},
   "source": [
    "<b>Collecting dataset websites from a book paragraph"
   ]
  },
  {
   "cell_type": "code",
   "execution_count": 90,
   "id": "617261b4-9650-4082-9e08-fbb49dfb66ab",
   "metadata": {},
   "outputs": [],
   "source": [
    "text='''\n",
    "Look for data to help you address the question. Governments are good\n",
    "sources because data from public research is often freely available. Good\n",
    "places to start include http://www.data.gov/, and http://www.science.\n",
    "gov/, and in the United Kingdom, http://data.gov.uk/.\n",
    "Two of my favorite data sets are the General Social Survey at http://www3.norc.org/gss+website/, \n",
    "and the European Social Survey at http://www.europeansocialsurvey.org/.\n",
    "'''"
   ]
  },
  {
   "cell_type": "code",
   "execution_count": 91,
   "id": "ccc3c3c3-a463-4c71-ad73-5322a7a922df",
   "metadata": {},
   "outputs": [
    {
     "data": {
      "text/plain": [
       "['http://www.data.gov/',\n",
       " 'http://www.science',\n",
       " 'http://data.gov.uk/.',\n",
       " 'http://www3.norc.org/gss+website/',\n",
       " 'http://www.europeansocialsurvey.org/.']"
      ]
     },
     "execution_count": 91,
     "metadata": {},
     "output_type": "execute_result"
    }
   ],
   "source": [
    "doc = nlp(text)\n",
    "data_websites = [token.text for token in doc if token.like_url ] \n",
    "data_websites"
   ]
  },
  {
   "cell_type": "code",
   "execution_count": 93,
   "id": "886975f2-7fb8-43b1-baf2-2a636c15b33f",
   "metadata": {},
   "outputs": [],
   "source": [
    "text='''\n",
    "When searching for data, consider academic institutions and international organizations, \n",
    "as they often provide high-quality, publicly accessible datasets. Repositories like \n",
    "https://dataverse.harvard.edu/ and https://datahub.io/ host a variety of datasets across multiple disciplines. \n",
    "The World Bank's Open Data platform at https://data.worldbank.org/ and the United Nations' \n",
    "data portal at https://data.un.org/ are excellent sources for global economic, social, and environmental statistics. \n",
    "For those interested in machine learning and AI research, https://www.kaggle.com/datasets offers a \n",
    "diverse collection of datasets curated by the data science community.\n",
    "'''"
   ]
  },
  {
   "cell_type": "code",
   "execution_count": 94,
   "id": "931e182a-f563-473f-b005-c6f1ad4f1162",
   "metadata": {},
   "outputs": [
    {
     "data": {
      "text/plain": [
       "['https://dataverse.harvard.edu/',\n",
       " 'https://datahub.io/',\n",
       " 'https://data.worldbank.org/',\n",
       " 'https://data.un.org/',\n",
       " 'https://www.kaggle.com/datasets']"
      ]
     },
     "execution_count": 94,
     "metadata": {},
     "output_type": "execute_result"
    }
   ],
   "source": [
    "doc = nlp(text)\n",
    "data_websites = [token.text for token in doc if token.like_url ] \n",
    "data_websites"
   ]
  },
  {
   "cell_type": "markdown",
   "id": "6a16d544-af84-4120-839d-bc3947671b3c",
   "metadata": {},
   "source": [
    "<b>Figure out all transactions from this text with amount and currency"
   ]
  },
  {
   "cell_type": "code",
   "execution_count": 92,
   "id": "ccd99ee1-1d21-415f-9067-512a26b39d49",
   "metadata": {},
   "outputs": [
    {
     "name": "stdout",
     "output_type": "stream",
     "text": [
      "two $\n",
      "500 €\n"
     ]
    }
   ],
   "source": [
    "transactions = \"Tony gave two $ to Peter, Bruce gave 500 € to Steve\"\n",
    "doc = nlp(transactions)\n",
    "for token in doc:\n",
    "    if token.like_num and doc[token.i+1].is_currency:\n",
    "        print(token.text, doc[token.i+1].text)       "
   ]
  },
  {
   "cell_type": "code",
   "execution_count": null,
   "id": "507988f7-efd7-43ca-9330-23cfbdbd1453",
   "metadata": {},
   "outputs": [],
   "source": []
  }
 ],
 "metadata": {
  "kernelspec": {
   "display_name": "Python 3.10 (TensorFlow)",
   "language": "python",
   "name": "python310"
  },
  "language_info": {
   "codemirror_mode": {
    "name": "ipython",
    "version": 3
   },
   "file_extension": ".py",
   "mimetype": "text/x-python",
   "name": "python",
   "nbconvert_exporter": "python",
   "pygments_lexer": "ipython3",
   "version": "3.10.11"
  }
 },
 "nbformat": 4,
 "nbformat_minor": 5
}
