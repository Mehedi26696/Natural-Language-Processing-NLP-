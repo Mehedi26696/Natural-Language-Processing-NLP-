{
 "cells": [
  {
   "cell_type": "markdown",
   "id": "0aa70dad-0960-4f32-9c7d-6f3b4c1e4860",
   "metadata": {},
   "source": [
    "<center><h1>Word Embeddings</center>"
   ]
  },
  {
   "cell_type": "code",
   "execution_count": 1,
   "id": "5fc451c4-a6c6-41a1-a75a-fc15c9f2a4d0",
   "metadata": {},
   "outputs": [],
   "source": [
    "import spacy\n",
    "nlp = spacy.load(\"en_core_web_lg\")"
   ]
  },
  {
   "cell_type": "code",
   "execution_count": 6,
   "id": "f7a618f6-5349-430f-ae5c-a04f67c81b05",
   "metadata": {},
   "outputs": [],
   "source": [
    "doc = nlp(\"dog cat banana rhewuh\")"
   ]
  },
  {
   "cell_type": "code",
   "execution_count": 7,
   "id": "d96c0a3f-210a-480b-85ee-e49e3274ea4a",
   "metadata": {},
   "outputs": [
    {
     "name": "stdout",
     "output_type": "stream",
     "text": [
      "dog Vector: True OOV: False\n",
      "cat Vector: True OOV: False\n",
      "banana Vector: True OOV: False\n",
      "rhewuh Vector: False OOV: True\n"
     ]
    }
   ],
   "source": [
    "for token in doc:\n",
    "    print(token.text, \"Vector:\", token.has_vector, \"OOV:\", token.is_oov)"
   ]
  },
  {
   "cell_type": "code",
   "execution_count": 8,
   "id": "238dd0f0-6815-4662-95a6-03fe31ecb482",
   "metadata": {},
   "outputs": [
    {
     "data": {
      "text/plain": [
       "(300,)"
      ]
     },
     "execution_count": 8,
     "metadata": {},
     "output_type": "execute_result"
    }
   ],
   "source": [
    "doc[0].vector.shape"
   ]
  },
  {
   "cell_type": "code",
   "execution_count": 9,
   "id": "9e096c41-be92-4587-b6aa-670964586ad7",
   "metadata": {},
   "outputs": [
    {
     "data": {
      "text/plain": [
       "dog"
      ]
     },
     "execution_count": 9,
     "metadata": {},
     "output_type": "execute_result"
    }
   ],
   "source": [
    "doc[0]"
   ]
  },
  {
   "cell_type": "markdown",
   "id": "09ddf4af-fbb4-4f96-a1ef-b6e18343e31f",
   "metadata": {},
   "source": [
    "<b>Similarity Between two tokens"
   ]
  },
  {
   "cell_type": "code",
   "execution_count": 10,
   "id": "1d7d6e11-19d5-4c59-9737-d7c19dc7ae6f",
   "metadata": {},
   "outputs": [],
   "source": [
    "base_token = nlp(\"bread\")"
   ]
  },
  {
   "cell_type": "code",
   "execution_count": 11,
   "id": "f5d6f55a-a003-4d73-ac6f-eeefca7b7c04",
   "metadata": {},
   "outputs": [
    {
     "data": {
      "text/plain": [
       "(300,)"
      ]
     },
     "execution_count": 11,
     "metadata": {},
     "output_type": "execute_result"
    }
   ],
   "source": [
    "base_token.vector.shape"
   ]
  },
  {
   "cell_type": "code",
   "execution_count": 12,
   "id": "6fcbed35-ff68-4b56-aabd-3c33dbde0ecb",
   "metadata": {},
   "outputs": [],
   "source": [
    "doc = nlp(\"bread sandwich burger car tiger human wheat\")"
   ]
  },
  {
   "cell_type": "code",
   "execution_count": 13,
   "id": "f55ff79d-a29b-4150-9a2e-9ecba4638b23",
   "metadata": {},
   "outputs": [
    {
     "name": "stdout",
     "output_type": "stream",
     "text": [
      "bread <-> bread: 0.9999999766167111\n",
      "sandwich <-> bread: 0.6874560014053445\n",
      "burger <-> bread: 0.5440373883702087\n",
      "car <-> bread: 0.1644114584391833\n",
      "tiger <-> bread: 0.1449235625942581\n",
      "human <-> bread: 0.21103660928832707\n",
      "wheat <-> bread: 0.6572456428272563\n"
     ]
    }
   ],
   "source": [
    "for token in doc:\n",
    "    print(f\"{token.text} <-> {base_token.text}:\", token.similarity(base_token))"
   ]
  },
  {
   "cell_type": "code",
   "execution_count": 14,
   "id": "9c4cb8e7-da25-413e-a8fc-903dd8aa58c4",
   "metadata": {},
   "outputs": [],
   "source": [
    "def print_similarity(base_word, words_to_compare):\n",
    "    base_token = nlp(base_word)\n",
    "    doc = nlp(words_to_compare)\n",
    "    for token in doc:\n",
    "        print(f\"{token.text} <-> {base_token.text}: \", token.similarity(base_token))"
   ]
  },
  {
   "cell_type": "code",
   "execution_count": 15,
   "id": "b3c17783-f7bf-4b08-a312-f6b1a1668cac",
   "metadata": {},
   "outputs": [
    {
     "name": "stdout",
     "output_type": "stream",
     "text": [
      "apple <-> iphone:  0.6339781147910419\n",
      "samsung <-> iphone:  0.6678678014329177\n",
      "iphone <-> iphone:  1.0000000285783557\n",
      "dog <-> iphone:  0.17431037640553934\n",
      "kitten <-> iphone:  0.14685812907484028\n"
     ]
    }
   ],
   "source": [
    "print_similarity(\"iphone\", \"apple samsung iphone dog kitten\")"
   ]
  },
  {
   "cell_type": "markdown",
   "id": "408cdad4-221c-4919-875a-d41dd87943a5",
   "metadata": {},
   "source": [
    "<b>Cosine Similarity Check"
   ]
  },
  {
   "cell_type": "code",
   "execution_count": 16,
   "id": "ddb0926e-01a5-4324-a7d6-780da25aaf17",
   "metadata": {},
   "outputs": [],
   "source": [
    "king = nlp.vocab[\"king\"].vector\n",
    "man = nlp.vocab[\"man\"].vector\n",
    "woman = nlp.vocab[\"woman\"].vector\n",
    "queen = nlp.vocab[\"queen\"].vector"
   ]
  },
  {
   "cell_type": "code",
   "execution_count": 17,
   "id": "0d7fb702-1cac-4866-b0f6-d65ea3bd6212",
   "metadata": {},
   "outputs": [],
   "source": [
    "result = king - man + woman"
   ]
  },
  {
   "cell_type": "code",
   "execution_count": 18,
   "id": "00966460-9e77-42c3-95ba-27df7e9579b6",
   "metadata": {},
   "outputs": [
    {
     "data": {
      "text/plain": [
       "array([[0.78808445]], dtype=float32)"
      ]
     },
     "execution_count": 18,
     "metadata": {},
     "output_type": "execute_result"
    }
   ],
   "source": [
    "from sklearn.metrics.pairwise import cosine_similarity\n",
    "\n",
    "cosine_similarity([result], [queen])"
   ]
  },
  {
   "cell_type": "code",
   "execution_count": null,
   "id": "ee8b0784-bc36-47eb-8cc0-7fd117021997",
   "metadata": {},
   "outputs": [],
   "source": []
  }
 ],
 "metadata": {
  "kernelspec": {
   "display_name": "Python 3.10 (TensorFlow)",
   "language": "python",
   "name": "python310"
  },
  "language_info": {
   "codemirror_mode": {
    "name": "ipython",
    "version": 3
   },
   "file_extension": ".py",
   "mimetype": "text/x-python",
   "name": "python",
   "nbconvert_exporter": "python",
   "pygments_lexer": "ipython3",
   "version": "3.10.11"
  }
 },
 "nbformat": 4,
 "nbformat_minor": 5
}
