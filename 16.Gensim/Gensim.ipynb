{
 "cells": [
  {
   "cell_type": "markdown",
   "id": "087f731d-8a65-43d2-be8f-02959bcba7ee",
   "metadata": {},
   "source": [
    "<center><h1 style=\"color:green\">Gensim</center>"
   ]
  },
  {
   "cell_type": "markdown",
   "id": "75895b53-f420-45ab-b2da-22746f05d304",
   "metadata": {},
   "source": [
    "<b>Gensim Word2vec"
   ]
  },
  {
   "cell_type": "code",
   "execution_count": 1,
   "id": "90f4f579-b315-4076-8cfa-c03d5d37724f",
   "metadata": {},
   "outputs": [],
   "source": [
    "import gensim.downloader as api\n",
    "wv = api.load('word2vec-google-news-300')"
   ]
  },
  {
   "cell_type": "markdown",
   "id": "9fe754d2-8cc8-4133-985a-27921b88b3fc",
   "metadata": {},
   "source": [
    "https://github.com/piskvorky/gensim-data"
   ]
  },
  {
   "cell_type": "code",
   "execution_count": 2,
   "id": "f88f793f-dbeb-46cd-8eb3-063d02356cee",
   "metadata": {},
   "outputs": [
    {
     "data": {
      "text/plain": [
       "0.729151"
      ]
     },
     "execution_count": 2,
     "metadata": {},
     "output_type": "execute_result"
    }
   ],
   "source": [
    "wv.similarity(w1=\"great\", w2=\"good\")"
   ]
  },
  {
   "cell_type": "code",
   "execution_count": 3,
   "id": "7a293c32-39e9-4ff8-8c15-d370c3ba7501",
   "metadata": {},
   "outputs": [
    {
     "data": {
      "text/plain": [
       "0.6120729"
      ]
     },
     "execution_count": 3,
     "metadata": {},
     "output_type": "execute_result"
    }
   ],
   "source": [
    "wv.similarity(w1=\"better\", w2=\"good\")"
   ]
  },
  {
   "cell_type": "code",
   "execution_count": 4,
   "id": "41252010-b5f7-4009-ba25-ad73c3dc8943",
   "metadata": {},
   "outputs": [
    {
     "data": {
      "text/plain": [
       "0.7190051"
      ]
     },
     "execution_count": 4,
     "metadata": {},
     "output_type": "execute_result"
    }
   ],
   "source": [
    "wv.similarity(w1=\"bad\", w2=\"good\")"
   ]
  },
  {
   "cell_type": "code",
   "execution_count": 5,
   "id": "9dbd3f52-6982-4a81-889b-9d1140c1ea82",
   "metadata": {},
   "outputs": [
    {
     "data": {
      "text/plain": [
       "1.0"
      ]
     },
     "execution_count": 5,
     "metadata": {},
     "output_type": "execute_result"
    }
   ],
   "source": [
    "wv.similarity(w1=\"good\", w2=\"good\")"
   ]
  },
  {
   "cell_type": "code",
   "execution_count": 6,
   "id": "c16680df-c767-4796-a4ea-c5af66df3d93",
   "metadata": {},
   "outputs": [
    {
     "data": {
      "text/plain": [
       "0.4098271"
      ]
     },
     "execution_count": 6,
     "metadata": {},
     "output_type": "execute_result"
    }
   ],
   "source": [
    "wv.similarity(w1=\"great\", w2=\"well\")"
   ]
  },
  {
   "cell_type": "code",
   "execution_count": 7,
   "id": "02e51e93-3689-40f7-985f-f50e83e5d394",
   "metadata": {},
   "outputs": [
    {
     "data": {
      "text/plain": [
       "0.34199455"
      ]
     },
     "execution_count": 7,
     "metadata": {},
     "output_type": "execute_result"
    }
   ],
   "source": [
    "wv.similarity(w1=\"profit\", w2=\"loss\")"
   ]
  },
  {
   "cell_type": "code",
   "execution_count": 8,
   "id": "f8e80b43-f95b-4f05-8150-4303d684f376",
   "metadata": {},
   "outputs": [
    {
     "data": {
      "text/plain": [
       "0.28772825"
      ]
     },
     "execution_count": 8,
     "metadata": {},
     "output_type": "execute_result"
    }
   ],
   "source": [
    "wv.similarity(w1=\"profit\", w2=\"gain\")"
   ]
  },
  {
   "cell_type": "code",
   "execution_count": 9,
   "id": "6cb395fb-26d5-46c2-bc7c-41fbd3c4cba7",
   "metadata": {},
   "outputs": [
    {
     "data": {
      "text/plain": [
       "[('great', 0.7291510105133057),\n",
       " ('bad', 0.7190051078796387),\n",
       " ('terrific', 0.6889115571975708),\n",
       " ('decent', 0.6837348341941833),\n",
       " ('nice', 0.6836092472076416),\n",
       " ('excellent', 0.644292950630188),\n",
       " ('fantastic', 0.6407778263092041),\n",
       " ('better', 0.6120728850364685),\n",
       " ('solid', 0.5806034803390503),\n",
       " ('lousy', 0.576420247554779)]"
      ]
     },
     "execution_count": 9,
     "metadata": {},
     "output_type": "execute_result"
    }
   ],
   "source": [
    "wv.most_similar(\"good\")"
   ]
  },
  {
   "cell_type": "code",
   "execution_count": 10,
   "id": "fd4edafa-d701-4441-8c6c-20173d99e5af",
   "metadata": {},
   "outputs": [
    {
     "data": {
      "text/plain": [
       "[('losses', 0.7114115357398987),\n",
       " ('losing', 0.5708735585212708),\n",
       " ('Loss', 0.5704946517944336),\n",
       " ('lost', 0.5399519801139832),\n",
       " ('setback', 0.5351796746253967),\n",
       " ('defeat', 0.5325874090194702),\n",
       " ('losss', 0.4918319880962372),\n",
       " ('Losses', 0.4891048073768616),\n",
       " ('drubbing', 0.4826142489910126),\n",
       " ('lossof', 0.4781074821949005)]"
      ]
     },
     "execution_count": 10,
     "metadata": {},
     "output_type": "execute_result"
    }
   ],
   "source": [
    "wv.most_similar(\"loss\")"
   ]
  },
  {
   "cell_type": "code",
   "execution_count": 11,
   "id": "ba0e081c-283e-4893-9dc0-f9209c141026",
   "metadata": {},
   "outputs": [
    {
     "data": {
      "text/plain": [
       "[('profits', 0.802002489566803),\n",
       " ('proft', 0.7426661252975464),\n",
       " ('pretax_profit', 0.6691470742225647),\n",
       " ('pretax_profits', 0.643925130367279),\n",
       " ('Profit', 0.6339423060417175),\n",
       " ('earnings', 0.6314975023269653),\n",
       " ('Profits', 0.5853961706161499),\n",
       " ('revenue', 0.5829346179962158),\n",
       " ('pretax', 0.5686764717102051),\n",
       " ('quarterly', 0.5639331936836243)]"
      ]
     },
     "execution_count": 11,
     "metadata": {},
     "output_type": "execute_result"
    }
   ],
   "source": [
    "wv.most_similar(\"profit\")"
   ]
  },
  {
   "cell_type": "code",
   "execution_count": 12,
   "id": "23732c2b-6f17-46f9-a76e-d29eddc5c03d",
   "metadata": {},
   "outputs": [
    {
     "data": {
      "text/plain": [
       "[('dogs', 0.8680489659309387),\n",
       " ('puppy', 0.8106428384780884),\n",
       " ('pit_bull', 0.780396044254303),\n",
       " ('pooch', 0.7627376914024353),\n",
       " ('cat', 0.7609457969665527),\n",
       " ('golden_retriever', 0.7500901818275452),\n",
       " ('German_shepherd', 0.7465174198150635),\n",
       " ('Rottweiler', 0.7437615394592285),\n",
       " ('beagle', 0.7418621778488159),\n",
       " ('pup', 0.740691065788269)]"
      ]
     },
     "execution_count": 12,
     "metadata": {},
     "output_type": "execute_result"
    }
   ],
   "source": [
    "wv.most_similar(\"dog\")"
   ]
  },
  {
   "cell_type": "code",
   "execution_count": 13,
   "id": "6efa9961-fc20-4b0a-ba1c-a9bba6a104cc",
   "metadata": {},
   "outputs": [
    {
     "data": {
      "text/plain": [
       "[('cats', 0.8099379539489746),\n",
       " ('dog', 0.760945737361908),\n",
       " ('kitten', 0.7464985251426697),\n",
       " ('feline', 0.7326234579086304),\n",
       " ('beagle', 0.7150582671165466),\n",
       " ('puppy', 0.7075453400611877),\n",
       " ('pup', 0.6934291124343872),\n",
       " ('pet', 0.6891531348228455),\n",
       " ('felines', 0.6755931973457336),\n",
       " ('chihuahua', 0.6709762215614319)]"
      ]
     },
     "execution_count": 13,
     "metadata": {},
     "output_type": "execute_result"
    }
   ],
   "source": [
    "wv.most_similar(\"cat\")"
   ]
  },
  {
   "cell_type": "markdown",
   "id": "faf90412-c915-44cc-a665-09def91fb1fd",
   "metadata": {},
   "source": [
    "King - man +woman = Queen"
   ]
  },
  {
   "cell_type": "code",
   "execution_count": 16,
   "id": "e7115d08-ec3d-4097-8ea1-355731c371ef",
   "metadata": {},
   "outputs": [
    {
     "data": {
      "text/plain": [
       "[('queen', 0.7118193507194519),\n",
       " ('monarch', 0.6189674139022827),\n",
       " ('princess', 0.5902431011199951),\n",
       " ('crown_prince', 0.5499460697174072),\n",
       " ('prince', 0.5377321839332581)]"
      ]
     },
     "execution_count": 16,
     "metadata": {},
     "output_type": "execute_result"
    }
   ],
   "source": [
    "wv.most_similar(positive=['king', 'woman'], negative=['man'], topn=5)"
   ]
  },
  {
   "cell_type": "markdown",
   "id": "188d0aed-eae5-447c-9e37-2b6d9c7785d5",
   "metadata": {},
   "source": [
    "France - Paris + Berlin = Germany"
   ]
  },
  {
   "cell_type": "code",
   "execution_count": 17,
   "id": "6203aab0-4cef-4799-be33-3affbcc4e8b1",
   "metadata": {},
   "outputs": [
    {
     "data": {
      "text/plain": [
       "[('germany', 0.5094343423843384),\n",
       " ('european', 0.48650455474853516),\n",
       " ('german', 0.4714890420436859),\n",
       " ('austria', 0.46964022517204285),\n",
       " ('swedish', 0.4645182490348816)]"
      ]
     },
     "execution_count": 17,
     "metadata": {},
     "output_type": "execute_result"
    }
   ],
   "source": [
    "wv.most_similar(positive=['france', 'berlin'], negative=['paris'], topn=5)"
   ]
  },
  {
   "cell_type": "code",
   "execution_count": 18,
   "id": "cad8a0d2-0cb7-4aef-a456-4f02aa24c3e7",
   "metadata": {},
   "outputs": [
    {
     "data": {
      "text/plain": [
       "[('China', 0.7857219576835632),\n",
       " ('Chinese', 0.6507863402366638),\n",
       " ('Beijing_Olympics', 0.5966253876686096),\n",
       " ('Taiwan', 0.5845885872840881),\n",
       " ('Bejing', 0.5829765200614929)]"
      ]
     },
     "execution_count": 18,
     "metadata": {},
     "output_type": "execute_result"
    }
   ],
   "source": [
    "wv.most_similar(positive=['Bangladesh', 'Beijing'], negative=['Dhaka'], topn=5)"
   ]
  },
  {
   "cell_type": "code",
   "execution_count": 19,
   "id": "8354c8f0-57cc-4b9c-80af-2db5c7871da6",
   "metadata": {},
   "outputs": [
    {
     "data": {
      "text/plain": [
       "'cat'"
      ]
     },
     "execution_count": 19,
     "metadata": {},
     "output_type": "execute_result"
    }
   ],
   "source": [
    "wv.doesnt_match([\"facebook\", \"cat\", \"google\", \"microsoft\"])"
   ]
  },
  {
   "cell_type": "code",
   "execution_count": 20,
   "id": "df4bbe4f-1a3c-49ed-a51c-356a2823e3c9",
   "metadata": {},
   "outputs": [
    {
     "data": {
      "text/plain": [
       "'google'"
      ]
     },
     "execution_count": 20,
     "metadata": {},
     "output_type": "execute_result"
    }
   ],
   "source": [
    "wv.doesnt_match([\"dog\", \"cat\", \"google\", \"mouse\"])"
   ]
  },
  {
   "cell_type": "markdown",
   "id": "904e789e-7132-4e82-b3f0-629f87ccb508",
   "metadata": {},
   "source": [
    "<b>Gensim: Glove"
   ]
  },
  {
   "cell_type": "code",
   "execution_count": 21,
   "id": "fe39c9bf-a9b8-4ee7-8e52-9172a520b9ec",
   "metadata": {},
   "outputs": [],
   "source": [
    "glv = api.load(\"glove-twitter-25\")"
   ]
  },
  {
   "cell_type": "code",
   "execution_count": 22,
   "id": "ed443b24-4575-4c6c-8f55-777265fafa5c",
   "metadata": {},
   "outputs": [
    {
     "data": {
      "text/plain": [
       "[('too', 0.9648017287254333),\n",
       " ('day', 0.9533665180206299),\n",
       " ('well', 0.9503170847892761),\n",
       " ('nice', 0.9438973665237427),\n",
       " ('better', 0.9425962567329407),\n",
       " ('fun', 0.9418926239013672),\n",
       " ('much', 0.9413353800773621),\n",
       " ('this', 0.9387555122375488),\n",
       " ('hope', 0.9383506774902344),\n",
       " ('great', 0.9378516674041748)]"
      ]
     },
     "execution_count": 22,
     "metadata": {},
     "output_type": "execute_result"
    }
   ],
   "source": [
    "glv.most_similar(\"good\")"
   ]
  },
  {
   "cell_type": "code",
   "execution_count": 23,
   "id": "ff47d240-d3a2-49e0-a564-e37a50b703e8",
   "metadata": {},
   "outputs": [
    {
     "data": {
      "text/plain": [
       "'cereal'"
      ]
     },
     "execution_count": 23,
     "metadata": {},
     "output_type": "execute_result"
    }
   ],
   "source": [
    "glv.doesnt_match(\"breakfast cereal dinner lunch\".split())"
   ]
  },
  {
   "cell_type": "code",
   "execution_count": 24,
   "id": "d2608705-6a67-4135-8d33-92776124bb36",
   "metadata": {},
   "outputs": [
    {
     "data": {
      "text/plain": [
       "'cat'"
      ]
     },
     "execution_count": 24,
     "metadata": {},
     "output_type": "execute_result"
    }
   ],
   "source": [
    "glv.doesnt_match(\"facebook cat google microsoft\".split())"
   ]
  },
  {
   "cell_type": "code",
   "execution_count": 25,
   "id": "37330c76-a09e-4d96-9434-24292c05453a",
   "metadata": {},
   "outputs": [
    {
     "data": {
      "text/plain": [
       "'human'"
      ]
     },
     "execution_count": 25,
     "metadata": {},
     "output_type": "execute_result"
    }
   ],
   "source": [
    "glv.doesnt_match(\"banana grapes orange human\".split())"
   ]
  }
 ],
 "metadata": {
  "kernelspec": {
   "display_name": "Python 3.10 (TensorFlow)",
   "language": "python",
   "name": "python310"
  },
  "language_info": {
   "codemirror_mode": {
    "name": "ipython",
    "version": 3
   },
   "file_extension": ".py",
   "mimetype": "text/x-python",
   "name": "python",
   "nbconvert_exporter": "python",
   "pygments_lexer": "ipython3",
   "version": "3.10.11"
  }
 },
 "nbformat": 4,
 "nbformat_minor": 5
}
