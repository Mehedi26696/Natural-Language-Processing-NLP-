{
 "cells": [
  {
   "cell_type": "markdown",
   "id": "df293d71-2cdc-4cbc-b8f2-73c579a48fdb",
   "metadata": {},
   "source": [
    "<center><h1 style=\"color:green\">Spacy Language Processing Pipelines</center>"
   ]
  },
  {
   "cell_type": "markdown",
   "id": "0452d63a-052c-4154-b507-a024749efd20",
   "metadata": {},
   "source": [
    "<b>Blank nlp pipeline"
   ]
  },
  {
   "cell_type": "code",
   "execution_count": 14,
   "id": "2272b56e-52b1-40c6-95b5-ed7e176c0638",
   "metadata": {},
   "outputs": [
    {
     "name": "stdout",
     "output_type": "stream",
     "text": [
      "Captain\n",
      "america\n",
      "ate\n",
      "100\n",
      "$\n",
      "of\n",
      "Jhalmuri\n",
      ".\n",
      "Then\n",
      "he\n",
      "said\n",
      "I\n",
      "can\n",
      "do\n",
      "this\n",
      "all\n",
      "day\n",
      ".\n"
     ]
    }
   ],
   "source": [
    "import spacy\n",
    "\n",
    "nlp = spacy.blank(\"en\")\n",
    "\n",
    "doc = nlp(\"Captain america ate 100$ of Jhalmuri. Then he said I can do this all day.\")\n",
    "\n",
    "for token in doc:\n",
    "    print(token)"
   ]
  },
  {
   "cell_type": "code",
   "execution_count": 15,
   "id": "534f71d5-e27e-41f8-acdc-a56a40a3b596",
   "metadata": {},
   "outputs": [
    {
     "data": {
      "text/plain": [
       "[]"
      ]
     },
     "execution_count": 15,
     "metadata": {},
     "output_type": "execute_result"
    }
   ],
   "source": [
    "nlp.pipe_names"
   ]
  },
  {
   "cell_type": "markdown",
   "id": "fd8b59f0-f5c8-424c-9074-77484463e221",
   "metadata": {},
   "source": [
    "Pipeline is something that starts with a Tokenizer component in a dotted rectange below. You can see there is nothing there hence the blank pipeline"
   ]
  },
  {
   "cell_type": "markdown",
   "id": "1fa91b01-3445-4d65-899d-3853afcb758f",
   "metadata": {},
   "source": [
    "<img src=\"spacy_blank_pipeline.jpg\">"
   ]
  },
  {
   "cell_type": "markdown",
   "id": "87284759-6d3b-4c4f-bbe2-bd9b7dfe7057",
   "metadata": {},
   "source": [
    "nlp.pipe_names is empty array indicating no components in the pipeline. Pipeline is something that starts with a tokenizer"
   ]
  },
  {
   "cell_type": "markdown",
   "id": "ca21e09f-2cc3-4c47-b251-afb0a1e3184c",
   "metadata": {},
   "source": [
    "More general diagram for nlp pipeline may look something like below"
   ]
  },
  {
   "cell_type": "markdown",
   "id": "77e8d656-2cae-4862-999f-fcebe4af53ec",
   "metadata": {},
   "source": [
    "<img src=\"spacy_loaded_pipeline.jpg\">"
   ]
  },
  {
   "cell_type": "code",
   "execution_count": 16,
   "id": "e038c24b-8407-4d8a-9128-3cf76eeff466",
   "metadata": {},
   "outputs": [
    {
     "name": "stdout",
     "output_type": "stream",
     "text": [
      "Captain  |    |  \n",
      "america  |    |  \n",
      "ate  |    |  \n",
      "100  |    |  \n",
      "$  |    |  \n",
      "of  |    |  \n",
      "Jhalmuri  |    |  \n",
      ".  |    |  \n",
      "Then  |    |  \n",
      "he  |    |  \n",
      "said  |    |  \n",
      "I  |    |  \n",
      "can  |    |  \n",
      "do  |    |  \n",
      "this  |    |  \n",
      "all  |    |  \n",
      "day  |    |  \n",
      ".  |    |  \n"
     ]
    }
   ],
   "source": [
    "doc = nlp(\"Captain america ate 100$ of Jhalmuri. Then he said I can do this all day.\")\n",
    "\n",
    "for token in doc:\n",
    "    print(token, \" | \",token.pos_, \" | \",token.lemma_)"
   ]
  },
  {
   "cell_type": "code",
   "execution_count": 17,
   "id": "09cdc43d-793b-4709-a511-b3253cac8a16",
   "metadata": {},
   "outputs": [],
   "source": [
    "nlp = spacy.load(\"en_core_web_sm\")"
   ]
  },
  {
   "cell_type": "code",
   "execution_count": 18,
   "id": "416c5fbf-4bb0-412d-9ba4-06388e8e86d2",
   "metadata": {},
   "outputs": [
    {
     "data": {
      "text/plain": [
       "['tok2vec', 'tagger', 'parser', 'attribute_ruler', 'lemmatizer', 'ner']"
      ]
     },
     "execution_count": 18,
     "metadata": {},
     "output_type": "execute_result"
    }
   ],
   "source": [
    "nlp.pipe_names"
   ]
  },
  {
   "cell_type": "code",
   "execution_count": 19,
   "id": "44df8dcd-c227-4a05-8e68-316375fe76da",
   "metadata": {},
   "outputs": [
    {
     "data": {
      "text/plain": [
       "[('tok2vec', <spacy.pipeline.tok2vec.Tok2Vec at 0x2b480805c00>),\n",
       " ('tagger', <spacy.pipeline.tagger.Tagger at 0x2b4808058a0>),\n",
       " ('parser', <spacy.pipeline.dep_parser.DependencyParser at 0x2b480d30900>),\n",
       " ('attribute_ruler',\n",
       "  <spacy.pipeline.attributeruler.AttributeRuler at 0x2b480491240>),\n",
       " ('lemmatizer', <spacy.lang.en.lemmatizer.EnglishLemmatizer at 0x2b4812c5f40>),\n",
       " ('ner', <spacy.pipeline.ner.EntityRecognizer at 0x2b480d30890>)]"
      ]
     },
     "execution_count": 19,
     "metadata": {},
     "output_type": "execute_result"
    }
   ],
   "source": [
    "nlp.pipeline"
   ]
  },
  {
   "cell_type": "markdown",
   "id": "7787af19-7b50-4f94-a574-d71e96c6f48f",
   "metadata": {},
   "source": [
    "<b>token.pos_ means parts of speech and token.lemma_ means base word"
   ]
  },
  {
   "cell_type": "markdown",
   "id": "ca975519-d536-4994-8857-14f115e9039c",
   "metadata": {},
   "source": [
    "token.pos_ -> tagger and token.lemma_ -> lematizer"
   ]
  },
  {
   "cell_type": "code",
   "execution_count": 20,
   "id": "8328b66e-878b-4a36-b52c-d9d31928ec42",
   "metadata": {},
   "outputs": [
    {
     "name": "stdout",
     "output_type": "stream",
     "text": [
      "Captain  |  PROPN  |  Captain\n",
      "america  |  PROPN  |  america\n",
      "ate  |  VERB  |  eat\n",
      "100  |  NUM  |  100\n",
      "$  |  NUM  |  $\n",
      "of  |  ADP  |  of\n",
      "Jhalmuri  |  PROPN  |  Jhalmuri\n",
      ".  |  PUNCT  |  .\n",
      "Then  |  ADV  |  then\n",
      "he  |  PRON  |  he\n",
      "said  |  VERB  |  say\n",
      "I  |  PRON  |  I\n",
      "can  |  AUX  |  can\n",
      "do  |  VERB  |  do\n",
      "this  |  PRON  |  this\n",
      "all  |  DET  |  all\n",
      "day  |  NOUN  |  day\n",
      ".  |  PUNCT  |  .\n"
     ]
    }
   ],
   "source": [
    "doc = nlp(\"Captain america ate 100$ of Jhalmuri. Then he said I can do this all day.\")\n",
    "\n",
    "for token in doc:\n",
    "    print(token, \" | \",token.pos_, \" | \",token.lemma_)"
   ]
  },
  {
   "cell_type": "markdown",
   "id": "00ecb16f-b7a3-45ec-bac4-dc926ab1b8d5",
   "metadata": {},
   "source": [
    "<b>Named Entity Recognition"
   ]
  },
  {
   "cell_type": "code",
   "execution_count": 21,
   "id": "d24be418-1697-402c-989e-ec660045e4c8",
   "metadata": {},
   "outputs": [
    {
     "name": "stdout",
     "output_type": "stream",
     "text": [
      "Tesla Inc  |  ORG  |  Companies, agencies, institutions, etc.\n",
      "$45 billion  |  MONEY  |  Monetary values, including unit\n"
     ]
    }
   ],
   "source": [
    "doc = nlp(\"Tesla Inc is going to acquire twitter for $45 billion\")\n",
    "for ent in doc.ents:\n",
    "    print(ent.text, \" | \", ent.label_, \" | \",spacy.explain(ent.label_))"
   ]
  },
  {
   "cell_type": "code",
   "execution_count": 22,
   "id": "c8474a7c-12f1-4a7d-b21b-198d56813972",
   "metadata": {},
   "outputs": [
    {
     "name": "stdout",
     "output_type": "stream",
     "text": [
      "Tesla  |  PROPN  |  Tesla\n",
      "Inc  |  PROPN  |  Inc\n",
      "is  |  AUX  |  be\n",
      "going  |  VERB  |  go\n",
      "to  |  PART  |  to\n",
      "acquire  |  VERB  |  acquire\n",
      "twitter  |  NOUN  |  twitter\n",
      "for  |  ADP  |  for\n",
      "$  |  SYM  |  $\n",
      "45  |  NUM  |  45\n",
      "billion  |  NUM  |  billion\n"
     ]
    }
   ],
   "source": [
    "for token in doc:\n",
    "    print(token, \" | \", token.pos_, \" | \", token.lemma_)"
   ]
  },
  {
   "cell_type": "code",
   "execution_count": 23,
   "id": "3d581eb7-2237-4aac-bdde-9f0da6b2a164",
   "metadata": {},
   "outputs": [
    {
     "data": {
      "text/html": [
       "<span class=\"tex2jax_ignore\"><div class=\"entities\" style=\"line-height: 2.5; direction: ltr\">\n",
       "<mark class=\"entity\" style=\"background: #7aecec; padding: 0.45em 0.6em; margin: 0 0.25em; line-height: 1; border-radius: 0.35em;\">\n",
       "    Tesla Inc\n",
       "    <span style=\"font-size: 0.8em; font-weight: bold; line-height: 1; border-radius: 0.35em; vertical-align: middle; margin-left: 0.5rem\">ORG</span>\n",
       "</mark>\n",
       " is going to acquire twitter for \n",
       "<mark class=\"entity\" style=\"background: #e4e7d2; padding: 0.45em 0.6em; margin: 0 0.25em; line-height: 1; border-radius: 0.35em;\">\n",
       "    $45 billion\n",
       "    <span style=\"font-size: 0.8em; font-weight: bold; line-height: 1; border-radius: 0.35em; vertical-align: middle; margin-left: 0.5rem\">MONEY</span>\n",
       "</mark>\n",
       "</div></span>"
      ],
      "text/plain": [
       "<IPython.core.display.HTML object>"
      ]
     },
     "metadata": {},
     "output_type": "display_data"
    }
   ],
   "source": [
    "from spacy import displacy\n",
    "\n",
    "displacy.render(doc, style=\"ent\")"
   ]
  },
  {
   "cell_type": "markdown",
   "id": "26172d93-3209-4447-8204-a7c3d90c38ea",
   "metadata": {},
   "source": [
    "<b>Trained processing pipeline in French"
   ]
  },
  {
   "cell_type": "code",
   "execution_count": 25,
   "id": "a7a71e16-f9a0-449c-b66a-df992a0553cd",
   "metadata": {},
   "outputs": [],
   "source": [
    "nlp = spacy.load(\"fr_core_news_sm\")"
   ]
  },
  {
   "cell_type": "code",
   "execution_count": 26,
   "id": "c9a36d7c-90c2-4f76-b22c-ec4a48653e11",
   "metadata": {},
   "outputs": [
    {
     "name": "stdout",
     "output_type": "stream",
     "text": [
      "Tesla Inc  |  PER  |  Named person or family.\n",
      "Twitter  |  MISC  |  Miscellaneous entities, e.g. events, nationalities, products or works of art\n"
     ]
    }
   ],
   "source": [
    "doc = nlp(\"Tesla Inc va racheter Twitter pour $45 milliards de dollars\")\n",
    "for ent in doc.ents:\n",
    "    print(ent.text, \" | \", ent.label_, \" | \", spacy.explain(ent.label_))"
   ]
  },
  {
   "cell_type": "code",
   "execution_count": 27,
   "id": "89b2ef4b-1673-4138-babc-a614b76e56b4",
   "metadata": {},
   "outputs": [
    {
     "name": "stdout",
     "output_type": "stream",
     "text": [
      "Tesla  |  PROPN  |  Tesla\n",
      "Inc  |  PROPN  |  Inc\n",
      "va  |  VERB  |  aller\n",
      "racheter  |  VERB  |  racheter\n",
      "Twitter  |  VERB  |  twitter\n",
      "pour  |  ADP  |  pour\n",
      "$  |  NOUN  |  dollar\n",
      "45  |  NUM  |  45\n",
      "milliards  |  NOUN  |  milliard\n",
      "de  |  ADP  |  de\n",
      "dollars  |  NOUN  |  dollar\n"
     ]
    }
   ],
   "source": [
    "for token in doc:\n",
    "    print(token, \" | \", token.pos_, \" | \", token.lemma_)"
   ]
  },
  {
   "cell_type": "markdown",
   "id": "07250c5f-e2b3-4e2d-a819-7b942c549c35",
   "metadata": {},
   "source": [
    "<b>Adding a component to a blank pipeline"
   ]
  },
  {
   "cell_type": "code",
   "execution_count": 28,
   "id": "720d0c3a-597d-4381-9b2b-d30413fabfe3",
   "metadata": {},
   "outputs": [
    {
     "data": {
      "text/plain": [
       "['ner']"
      ]
     },
     "execution_count": 28,
     "metadata": {},
     "output_type": "execute_result"
    }
   ],
   "source": [
    "source_nlp = spacy.load(\"en_core_web_sm\")\n",
    "\n",
    "nlp = spacy.blank(\"en\")\n",
    "nlp.add_pipe(\"ner\", source=source_nlp)\n",
    "nlp.pipe_names"
   ]
  },
  {
   "cell_type": "code",
   "execution_count": 29,
   "id": "c2ca4a70-b7e1-4832-92e5-f559619ef73e",
   "metadata": {},
   "outputs": [
    {
     "name": "stdout",
     "output_type": "stream",
     "text": [
      "Tesla Inc ORG\n",
      "$45 billion MONEY\n"
     ]
    }
   ],
   "source": [
    "doc = nlp(\"Tesla Inc is going to acquire twitter for $45 billion\")\n",
    "for ent in doc.ents:\n",
    "    print(ent.text, ent.label_)"
   ]
  }
 ],
 "metadata": {
  "kernelspec": {
   "display_name": "Python 3.10 (TensorFlow)",
   "language": "python",
   "name": "python310"
  },
  "language_info": {
   "codemirror_mode": {
    "name": "ipython",
    "version": 3
   },
   "file_extension": ".py",
   "mimetype": "text/x-python",
   "name": "python",
   "nbconvert_exporter": "python",
   "pygments_lexer": "ipython3",
   "version": "3.10.11"
  }
 },
 "nbformat": 4,
 "nbformat_minor": 5
}
