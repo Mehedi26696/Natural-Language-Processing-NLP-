{
 "cells": [
  {
   "cell_type": "markdown",
   "id": "7f25e570-92d9-488c-9511-3cd4c5a3fbc9",
   "metadata": {},
   "source": [
    "<center><h1 style=\"color:green\">Fast Text</center>"
   ]
  },
  {
   "cell_type": "markdown",
   "id": "4c77bcd0-ee8b-47fe-af0a-7e5f0dd7e178",
   "metadata": {},
   "source": [
    "<b>English model"
   ]
  },
  {
   "cell_type": "code",
   "execution_count": 1,
   "id": "eb67ba7a-6539-4d54-9ebb-22fed6fecec0",
   "metadata": {},
   "outputs": [],
   "source": [
    "import fasttext"
   ]
  },
  {
   "cell_type": "code",
   "execution_count": 2,
   "id": "75d09874-4566-4f55-a60e-99e3470cff9c",
   "metadata": {},
   "outputs": [],
   "source": [
    "model_en = fasttext.load_model(\"D:\\\\Depression\\\\Natural Language Processing\\\\17.Fast Text\\\\models\\\\cc.en.300.bin\")"
   ]
  },
  {
   "cell_type": "code",
   "execution_count": 3,
   "id": "77d502b5-50f1-4ad4-b105-992332c57440",
   "metadata": {},
   "outputs": [
    {
     "data": {
      "text/plain": [
       "[(0.7517593502998352, 'bad'),\n",
       " (0.7426098585128784, 'great'),\n",
       " (0.7299689054489136, 'decent'),\n",
       " (0.7123614549636841, 'nice'),\n",
       " (0.6796907186508179, 'Good'),\n",
       " (0.6737031936645508, 'excellent'),\n",
       " (0.669592022895813, 'goood'),\n",
       " (0.6602178812026978, 'ggod'),\n",
       " (0.6479219794273376, 'semi-good'),\n",
       " (0.6417751908302307, 'good.Good')]"
      ]
     },
     "execution_count": 3,
     "metadata": {},
     "output_type": "execute_result"
    }
   ],
   "source": [
    "model_en.get_nearest_neighbors('good')"
   ]
  },
  {
   "cell_type": "code",
   "execution_count": 14,
   "id": "7bcbca62-0113-4969-a9d6-1032f599f204",
   "metadata": {},
   "outputs": [
    {
     "data": {
      "text/plain": [
       "[(0.7517593502998352, 'bad'),\n",
       " (0.7426098585128784, 'great'),\n",
       " (0.7299689054489136, 'decent')]"
      ]
     },
     "execution_count": 14,
     "metadata": {},
     "output_type": "execute_result"
    }
   ],
   "source": [
    "model_en.get_nearest_neighbors('good',k=3)"
   ]
  },
  {
   "cell_type": "code",
   "execution_count": 4,
   "id": "7c3e9f21-ff41-454c-8213-53b18e78389f",
   "metadata": {},
   "outputs": [
    {
     "data": {
      "text/plain": [
       "['__class__',\n",
       " '__contains__',\n",
       " '__delattr__',\n",
       " '__dict__',\n",
       " '__dir__',\n",
       " '__doc__',\n",
       " '__eq__',\n",
       " '__format__',\n",
       " '__ge__',\n",
       " '__getattribute__',\n",
       " '__getitem__',\n",
       " '__gt__',\n",
       " '__hash__',\n",
       " '__init__',\n",
       " '__init_subclass__',\n",
       " '__le__',\n",
       " '__lt__',\n",
       " '__module__',\n",
       " '__ne__',\n",
       " '__new__',\n",
       " '__reduce__',\n",
       " '__reduce_ex__',\n",
       " '__repr__',\n",
       " '__setattr__',\n",
       " '__sizeof__',\n",
       " '__str__',\n",
       " '__subclasshook__',\n",
       " '__weakref__',\n",
       " '_labels',\n",
       " '_words',\n",
       " 'f',\n",
       " 'get_analogies',\n",
       " 'get_dimension',\n",
       " 'get_input_matrix',\n",
       " 'get_input_vector',\n",
       " 'get_label_id',\n",
       " 'get_labels',\n",
       " 'get_line',\n",
       " 'get_meter',\n",
       " 'get_nearest_neighbors',\n",
       " 'get_output_matrix',\n",
       " 'get_sentence_vector',\n",
       " 'get_subword_id',\n",
       " 'get_subwords',\n",
       " 'get_word_id',\n",
       " 'get_word_vector',\n",
       " 'get_words',\n",
       " 'is_quantized',\n",
       " 'labels',\n",
       " 'predict',\n",
       " 'quantize',\n",
       " 'save_model',\n",
       " 'set_args',\n",
       " 'set_matrices',\n",
       " 'test',\n",
       " 'test_label',\n",
       " 'words']"
      ]
     },
     "execution_count": 4,
     "metadata": {},
     "output_type": "execute_result"
    }
   ],
   "source": [
    "dir(model_en)"
   ]
  },
  {
   "cell_type": "code",
   "execution_count": 5,
   "id": "6e2dace3-ecaf-4708-ba6d-a930657d2818",
   "metadata": {},
   "outputs": [
    {
     "data": {
      "text/plain": [
       "array([-0.09213716, -0.0634383 ,  0.00173813,  0.13524324, -0.06561062,\n",
       "        0.00619071,  0.12609869, -0.01646539,  0.0174491 , -0.00126792,\n",
       "       -0.09709831,  0.02329333,  0.00996784,  0.00463419,  0.01587938,\n",
       "        0.00689824,  0.08575399, -0.01988525, -0.0601579 , -0.02327966,\n",
       "        0.01183712,  0.08217917,  0.01488847,  0.00902181,  0.00696296,\n",
       "       -0.06426616,  0.03345198, -0.02101481,  0.06767873,  0.03022419,\n",
       "        0.07203474, -0.05689922, -0.04370377,  0.00642597,  0.0439174 ,\n",
       "        0.0604848 , -0.00611545, -0.12256738, -0.03530414, -0.02696739,\n",
       "       -0.02058216,  0.00752347, -0.00686451,  0.0362783 , -0.03308735,\n",
       "        0.05801626,  0.00832448, -0.06336953, -0.05775082,  0.01089846,\n",
       "       -0.0925179 ,  0.01559984, -0.04079024,  0.0066871 , -0.06374165,\n",
       "        0.05881973,  0.07209535, -0.05387195, -0.14658651, -0.04046486,\n",
       "       -0.02507038, -0.04954465, -0.05224417, -0.06846938,  0.0467079 ,\n",
       "        0.00459271, -0.07522177,  0.03627685, -0.0698283 ,  0.0174791 ,\n",
       "       -0.03427085, -0.043176  ,  0.00764059,  0.05694873,  0.0064466 ,\n",
       "       -0.01078498,  0.02328758,  0.06951396,  0.05373847,  0.02533235,\n",
       "        0.04307906, -0.03298698, -0.01265992,  0.02883131,  0.01145704,\n",
       "       -0.03029559,  0.02814867,  0.09258693,  0.08908885,  0.21924517,\n",
       "        0.03836972,  0.05020344,  0.13716629, -0.00859585, -0.0113667 ,\n",
       "        0.10641211, -0.07889125,  0.08034115, -0.00441031, -0.04873084,\n",
       "        0.00183913,  0.06675661,  0.00995041,  0.03010932, -0.02987454,\n",
       "        0.02509423, -0.04333989, -0.0059728 , -0.00332469, -0.0522663 ,\n",
       "       -0.03281598,  0.12006998,  0.01166376, -0.03454734,  0.01907663,\n",
       "       -0.01262398, -0.02025696,  0.01866139,  0.05016267,  0.05604192,\n",
       "        0.04971652,  0.03597424, -0.00690809,  0.05734055,  0.05945349,\n",
       "        0.0261135 ,  0.01734888, -0.00711455, -0.1295353 ,  0.01600225,\n",
       "        0.00150194, -0.03631282, -0.00469453,  0.02215887, -0.00699799,\n",
       "       -0.02894606,  0.03908806,  0.0401371 , -0.03941151, -0.02646147,\n",
       "       -0.04718655,  0.02674983,  0.07485171,  0.03144611, -0.07028159,\n",
       "       -0.0424196 , -0.2054326 , -0.09083363, -0.01121964,  0.05520659,\n",
       "       -0.11916859,  0.00788128, -0.13444994, -0.01488061, -0.02091767,\n",
       "        0.09262317,  0.06291065, -0.02200251, -0.03655258,  0.02587264,\n",
       "        0.0447952 , -0.01287306, -0.0350248 , -0.02456109, -0.04746678,\n",
       "        0.00130645,  0.01147217, -0.00531678,  0.11162786,  0.0253936 ,\n",
       "       -0.03638908, -0.05931935, -0.00549408,  0.0074574 , -0.01289796,\n",
       "       -0.0719263 , -0.02486867, -0.04750141,  0.00194147, -0.1141203 ,\n",
       "        0.01648522,  0.05083858, -0.02679086, -0.04766015,  0.00518819,\n",
       "        0.04099732,  0.02709844, -0.06511603, -0.06652133, -0.07979076,\n",
       "        0.0491582 ,  0.05377757,  0.0200878 , -0.03799915, -0.02513728,\n",
       "        0.00410288, -0.04514588, -0.04708159, -0.00559349,  0.13073431,\n",
       "       -0.09549722,  0.16606593,  0.0221815 , -0.05887613, -0.02126267,\n",
       "        0.00425452, -0.05540022, -0.06286709, -0.05455609,  0.11610305,\n",
       "        0.12443443, -0.00741135,  0.01761745, -0.0075937 , -0.05616794,\n",
       "       -0.01676267,  0.07975771, -0.04046471,  0.07211975,  0.13321361,\n",
       "        0.07106   , -0.01443719,  0.02562447,  0.05690589, -0.0090815 ,\n",
       "       -0.00628489,  0.03647495,  0.00689165,  0.04463093,  0.01837448,\n",
       "        0.00218417, -0.02093561,  0.07896647, -0.05610979,  0.02535573,\n",
       "       -0.09674191, -0.03684152,  0.01628419,  0.00908958, -0.06135098,\n",
       "        0.05458912, -0.03850613,  0.03017449, -0.1417458 ,  0.17130415,\n",
       "       -0.05436675, -0.01079106,  0.04692602, -0.02894384, -0.0273016 ,\n",
       "        0.09735578, -0.13424474, -0.02024667, -0.04736632, -0.03244197,\n",
       "        0.00541304, -0.04343438, -0.0003211 ,  0.16816942,  0.03105447,\n",
       "       -0.03063404, -0.00045107,  0.04690041,  0.11270425, -0.13718411,\n",
       "        0.05740229,  0.00801181, -0.17329559,  0.03051268, -0.1268264 ,\n",
       "       -0.06074513, -0.03838078, -0.01737073,  0.12296247, -0.05316308,\n",
       "       -0.07613882,  0.02129988,  0.0121702 , -0.01287838,  0.0768657 ,\n",
       "       -0.26769733,  0.05321693, -0.12607867, -0.02812696,  0.07982896,\n",
       "       -0.02915069, -0.01767069, -0.10350563, -0.0471432 , -0.03033449,\n",
       "        0.08542065,  0.02928957, -0.11185424, -0.00142424,  0.0379483 ,\n",
       "        0.02438426, -0.01398861,  0.14165413, -0.05115522, -0.08859383],\n",
       "      dtype=float32)"
      ]
     },
     "execution_count": 5,
     "metadata": {},
     "output_type": "execute_result"
    }
   ],
   "source": [
    "model_en.get_word_vector(\"good\")"
   ]
  },
  {
   "cell_type": "code",
   "execution_count": 6,
   "id": "0457cc4d-e98c-45fc-bdb9-f5bb575a5e9e",
   "metadata": {},
   "outputs": [
    {
     "data": {
      "text/plain": [
       "(300,)"
      ]
     },
     "execution_count": 6,
     "metadata": {},
     "output_type": "execute_result"
    }
   ],
   "source": [
    "model_en.get_word_vector(\"good\").shape"
   ]
  },
  {
   "cell_type": "code",
   "execution_count": 8,
   "id": "f4fc56d5-95de-4a2b-89f3-00229dae2d23",
   "metadata": {},
   "outputs": [
    {
     "data": {
      "text/plain": [
       "[(0.714980959892273, 'Dhaka'),\n",
       " (0.6285343170166016, 'Chittagong'),\n",
       " (0.621258556842804, 'Rajshahi'),\n",
       " (0.6135594844818115, 'Khulna'),\n",
       " (0.6099324822425842, 'Mymensingh'),\n",
       " (0.6040257215499878, 'Bangaldesh'),\n",
       " (0.6025505661964417, 'Bangladesh.The'),\n",
       " (0.5960294604301453, 'Panchagarh'),\n",
       " (0.5893428921699524, 'Bangladesh.'),\n",
       " (0.5889700055122375, 'Sylhet')]"
      ]
     },
     "execution_count": 8,
     "metadata": {},
     "output_type": "execute_result"
    }
   ],
   "source": [
    "model_en.get_analogies(\"berlin\",\"germany\",\"Bangladesh\")"
   ]
  },
  {
   "cell_type": "code",
   "execution_count": 9,
   "id": "bb9fedef-e138-4b16-b9b1-1becc4ded071",
   "metadata": {},
   "outputs": [
    {
     "data": {
      "text/plain": [
       "[(0.610385537147522, 'texting'),\n",
       " (0.5203558802604675, 'phone-calling'),\n",
       " (0.5153835415840149, 'cellphone'),\n",
       " (0.5135326981544495, 'cell-phone'),\n",
       " (0.5117910504341125, 'dialing'),\n",
       " (0.5087355971336365, 'texing'),\n",
       " (0.5079342722892761, 'text-messaging'),\n",
       " (0.500900387763977, 'txting'),\n",
       " (0.4960441589355469, 'texting.'),\n",
       " (0.4951859414577484, 'Texting')]"
      ]
     },
     "execution_count": 9,
     "metadata": {},
     "output_type": "execute_result"
    }
   ],
   "source": [
    "model_en.get_analogies(\"driving\",\"car\",\"phone\")"
   ]
  },
  {
   "cell_type": "code",
   "execution_count": 10,
   "id": "996efd0e-58a2-48c6-ab4a-73cc8a42e325",
   "metadata": {},
   "outputs": [
    {
     "data": {
      "text/plain": [
       "[(0.5302355885505676, 'reading'),\n",
       " (0.517051637172699, 'book.I'),\n",
       " (0.5137901306152344, 'book--and'),\n",
       " (0.5090512633323669, 'book.That'),\n",
       " (0.5005884766578674, 'book--it'),\n",
       " (0.49395182728767395, 'book--I'),\n",
       " (0.49293914437294006, 're-reading'),\n",
       " (0.49156999588012695, 'book.This'),\n",
       " (0.49107635021209717, 'reading--and'),\n",
       " (0.48960915207862854, 'book--the')]"
      ]
     },
     "execution_count": 10,
     "metadata": {},
     "output_type": "execute_result"
    }
   ],
   "source": [
    "model_en.get_analogies(\"driving\",\"car\",\"book\")"
   ]
  },
  {
   "cell_type": "code",
   "execution_count": 11,
   "id": "034e9918-c9d9-4c85-b91e-f95bb4384c90",
   "metadata": {},
   "outputs": [
    {
     "data": {
      "text/plain": [
       "[(0.8090448975563049, 'Biryani'),\n",
       " (0.7974911332130432, 'Briyani'),\n",
       " (0.7703844308853149, 'biriyani'),\n",
       " (0.728828489780426, 'biryani'),\n",
       " (0.7272374033927917, 'briyani'),\n",
       " (0.6785562038421631, 'kothu'),\n",
       " (0.6704551577568054, 'haleem'),\n",
       " (0.6669398546218872, 'Parotta'),\n",
       " (0.6622879505157471, 'Kababs'),\n",
       " (0.6597592234611511, 'Dhansak')]"
      ]
     },
     "execution_count": 11,
     "metadata": {},
     "output_type": "execute_result"
    }
   ],
   "source": [
    "model_en.get_nearest_neighbors(\"Biriyani\")"
   ]
  },
  {
   "cell_type": "code",
   "execution_count": 12,
   "id": "0b68f4bb-e65c-4e97-8c48-55efdd647d01",
   "metadata": {},
   "outputs": [
    {
     "data": {
      "text/plain": [
       "[(0.8540111780166626, 'pizzas'),\n",
       " (0.7748066186904907, 'pizza-'),\n",
       " (0.7579523324966431, 'Pizza'),\n",
       " (0.7549055218696594, 'pizza.The'),\n",
       " (0.7395361661911011, 'pizza.'),\n",
       " (0.7314710021018982, 'pizza.I'),\n",
       " (0.7234458923339844, 'pepperoni'),\n",
       " (0.7149366140365601, 'calzone'),\n",
       " (0.7010253667831421, 'pizzeria'),\n",
       " (0.6910582780838013, 'Pizzas')]"
      ]
     },
     "execution_count": 12,
     "metadata": {},
     "output_type": "execute_result"
    }
   ],
   "source": [
    "model_en.get_nearest_neighbors(\"pizza\")"
   ]
  },
  {
   "cell_type": "code",
   "execution_count": 16,
   "id": "ba4df649-f1b9-42d3-978b-dc8afac62477",
   "metadata": {},
   "outputs": [
    {
     "data": {
      "text/plain": [
       "[(0.7637639045715332, 'ekhon'),\n",
       " (0.7417475581169128, 'shob'),\n",
       " (0.7409051060676575, 'ektu'),\n",
       " (0.7364805936813354, 'beshi'),\n",
       " (0.7364393472671509, 'onek'),\n",
       " (0.7305312156677246, 'korbo'),\n",
       " (0.7187160849571228, 'bhalo'),\n",
       " (0.7129801511764526, 'hoye'),\n",
       " (0.7028014659881592, 'bhul'),\n",
       " (0.6995646357536316, 'kintu')]"
      ]
     },
     "execution_count": 16,
     "metadata": {},
     "output_type": "execute_result"
    }
   ],
   "source": [
    "model_en.get_nearest_neighbors(\"amader\")"
   ]
  },
  {
   "cell_type": "code",
   "execution_count": 20,
   "id": "c2d94147-d544-4b24-8a59-bebc7a9daea2",
   "metadata": {},
   "outputs": [
    {
     "data": {
      "text/plain": [
       "[(0.8302913308143616, 'Chittagong'),\n",
       " (0.799909234046936, 'Rajshahi'),\n",
       " (0.7916259765625, 'Sylhet'),\n",
       " (0.7870969176292419, 'Bangladesh'),\n",
       " (0.7762275338172913, 'Khulna'),\n",
       " (0.7356765270233154, 'Mymensingh'),\n",
       " (0.7250272035598755, 'Kolkata'),\n",
       " (0.7190096974372864, 'Mirpur'),\n",
       " (0.7152929902076721, 'Narayanganj'),\n",
       " (0.712215006351471, 'Karachi')]"
      ]
     },
     "execution_count": 20,
     "metadata": {},
     "output_type": "execute_result"
    }
   ],
   "source": [
    "model_en.get_nearest_neighbors(\"Dhaka\")"
   ]
  },
  {
   "cell_type": "markdown",
   "id": "c7b9e300-1843-430f-b12b-e76beccd05e5",
   "metadata": {},
   "source": [
    "<b>Bengali Model"
   ]
  },
  {
   "cell_type": "code",
   "execution_count": 21,
   "id": "d092610c-f43b-47b7-b83c-999128f7b535",
   "metadata": {},
   "outputs": [],
   "source": [
    "model_bn = fasttext.load_model(\"D:\\\\Depression\\\\Natural Language Processing\\\\17.Fast Text\\\\models\\\\cc.bn.300.bin\")"
   ]
  },
  {
   "cell_type": "code",
   "execution_count": 22,
   "id": "f78ceea7-d0a5-4beb-a0ba-67ba5783e036",
   "metadata": {},
   "outputs": [
    {
     "data": {
      "text/plain": [
       "['__class__',\n",
       " '__contains__',\n",
       " '__delattr__',\n",
       " '__dict__',\n",
       " '__dir__',\n",
       " '__doc__',\n",
       " '__eq__',\n",
       " '__format__',\n",
       " '__ge__',\n",
       " '__getattribute__',\n",
       " '__getitem__',\n",
       " '__gt__',\n",
       " '__hash__',\n",
       " '__init__',\n",
       " '__init_subclass__',\n",
       " '__le__',\n",
       " '__lt__',\n",
       " '__module__',\n",
       " '__ne__',\n",
       " '__new__',\n",
       " '__reduce__',\n",
       " '__reduce_ex__',\n",
       " '__repr__',\n",
       " '__setattr__',\n",
       " '__sizeof__',\n",
       " '__str__',\n",
       " '__subclasshook__',\n",
       " '__weakref__',\n",
       " '_labels',\n",
       " '_words',\n",
       " 'f',\n",
       " 'get_analogies',\n",
       " 'get_dimension',\n",
       " 'get_input_matrix',\n",
       " 'get_input_vector',\n",
       " 'get_label_id',\n",
       " 'get_labels',\n",
       " 'get_line',\n",
       " 'get_meter',\n",
       " 'get_nearest_neighbors',\n",
       " 'get_output_matrix',\n",
       " 'get_sentence_vector',\n",
       " 'get_subword_id',\n",
       " 'get_subwords',\n",
       " 'get_word_id',\n",
       " 'get_word_vector',\n",
       " 'get_words',\n",
       " 'is_quantized',\n",
       " 'labels',\n",
       " 'predict',\n",
       " 'quantize',\n",
       " 'save_model',\n",
       " 'set_args',\n",
       " 'set_matrices',\n",
       " 'test',\n",
       " 'test_label',\n",
       " 'words']"
      ]
     },
     "execution_count": 22,
     "metadata": {},
     "output_type": "execute_result"
    }
   ],
   "source": [
    "dir(model_bn)"
   ]
  },
  {
   "cell_type": "code",
   "execution_count": 24,
   "id": "71496211-6889-493d-b17b-e7506dfe37bc",
   "metadata": {},
   "outputs": [
    {
     "data": {
      "text/plain": [
       "[(0.8291800618171692, 'ভাল'),\n",
       " (0.6841394305229187, 'খারাপ'),\n",
       " (0.6724818348884583, 'ভালোতো'),\n",
       " (0.6575330495834351, 'ভালোও'),\n",
       " (0.6363114714622498, 'ভালোকিছু'),\n",
       " (0.6347580552101135, 'খারাপও'),\n",
       " (0.6332769989967346, 'খারাপই'),\n",
       " (0.626133143901825, 'ভালোকাজ'),\n",
       " (0.624464213848114, 'খারাপটা'),\n",
       " (0.6244316101074219, 'ভালোথেক')]"
      ]
     },
     "execution_count": 24,
     "metadata": {},
     "output_type": "execute_result"
    }
   ],
   "source": [
    "model_bn.get_nearest_neighbors('ভালো')"
   ]
  },
  {
   "cell_type": "code",
   "execution_count": 25,
   "id": "63cff45f-bab4-4bf7-af27-86fc8f4f0827",
   "metadata": {},
   "outputs": [
    {
     "data": {
      "text/plain": [
       "[(0.8588247895240784, 'tomader'),\n",
       " (0.7755202054977417, 'jader'),\n",
       " (0.7749022245407104, 'tader'),\n",
       " (0.7503668069839478, 'Tamader'),\n",
       " (0.7475658059120178, 'meyader'),\n",
       " (0.7384049892425537, 'Apnader'),\n",
       " (0.7381937503814697, 'apnader'),\n",
       " (0.7187272906303406, 'Tomader'),\n",
       " (0.7143685817718506, 'mayader'),\n",
       " (0.7087691426277161, 'jonneo')]"
      ]
     },
     "execution_count": 25,
     "metadata": {},
     "output_type": "execute_result"
    }
   ],
   "source": [
    "model_bn.get_nearest_neighbors('amader')"
   ]
  },
  {
   "cell_type": "code",
   "execution_count": 26,
   "id": "beb0e398-fa39-42bb-963d-5a9ecc98eb2b",
   "metadata": {},
   "outputs": [
    {
     "data": {
      "text/plain": [
       "[(0.8844985365867615, 'gele'),\n",
       " (0.8804891109466553, 'jabe'),\n",
       " (0.8775027394294739, 'jete'),\n",
       " (0.8755778074264526, 'abong'),\n",
       " (0.8743661642074585, 'boli'),\n",
       " (0.8726556301116943, 'abar'),\n",
       " (0.8724485635757446, 'khete'),\n",
       " (0.871667206287384, 'puro'),\n",
       " (0.8643869161605835, 'bujha'),\n",
       " (0.8622632026672363, 'sobcheye')]"
      ]
     },
     "execution_count": 26,
     "metadata": {},
     "output_type": "execute_result"
    }
   ],
   "source": [
    "model_bn.get_nearest_neighbors(\"khusi\")"
   ]
  },
  {
   "cell_type": "code",
   "execution_count": 27,
   "id": "2a1400dc-053b-4196-b759-02954dd7a886",
   "metadata": {},
   "outputs": [
    {
     "data": {
      "text/plain": [
       "[(0.7312601208686829, 'খুশী'),\n",
       " (0.7277060747146606, 'খুশিও'),\n",
       " (0.7058438658714294, 'খুশিটা'),\n",
       " (0.6880137324333191, 'খুশিতো'),\n",
       " (0.6765457987785339, 'খুশিযাঁ'),\n",
       " (0.662327766418457, 'খুশিকে'),\n",
       " (0.6401695609092712, 'খুশিটাই'),\n",
       " (0.6311455965042114, 'খুশীও'),\n",
       " (0.6305397748947144, 'খুশীই'),\n",
       " (0.6246488094329834, 'খুশিই')]"
      ]
     },
     "execution_count": 27,
     "metadata": {},
     "output_type": "execute_result"
    }
   ],
   "source": [
    "model_bn.get_nearest_neighbors(\"খুশি\")"
   ]
  },
  {
   "cell_type": "code",
   "execution_count": null,
   "id": "1c99bc39-3076-440b-9dd5-7212b795bb99",
   "metadata": {},
   "outputs": [],
   "source": []
  }
 ],
 "metadata": {
  "kernelspec": {
   "display_name": "Python 3.10 (TensorFlow)",
   "language": "python",
   "name": "python310"
  },
  "language_info": {
   "codemirror_mode": {
    "name": "ipython",
    "version": 3
   },
   "file_extension": ".py",
   "mimetype": "text/x-python",
   "name": "python",
   "nbconvert_exporter": "python",
   "pygments_lexer": "ipython3",
   "version": "3.10.11"
  }
 },
 "nbformat": 4,
 "nbformat_minor": 5
}
