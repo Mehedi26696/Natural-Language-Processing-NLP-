{
 "cells": [
  {
   "cell_type": "markdown",
   "id": "7a4ef6d6-9260-4e09-92b6-620eb32759d4",
   "metadata": {},
   "source": [
    "<center><h1 style=\"color:green\">Spacy vs NLTK</center>"
   ]
  },
  {
   "cell_type": "markdown",
   "id": "b73a9e71-d977-4fe5-8ba4-59ced28f698a",
   "metadata": {},
   "source": [
    "<b>Sentence & Word Tokenization In Spacy"
   ]
  },
  {
   "cell_type": "code",
   "execution_count": 1,
   "id": "f1f5a943-f5fa-4c6f-a514-45c87b3d6b4b",
   "metadata": {},
   "outputs": [],
   "source": [
    "import spacy"
   ]
  },
  {
   "cell_type": "code",
   "execution_count": 2,
   "id": "3c3b3956-6d2b-459d-9cdb-f3dfcbf2ad2b",
   "metadata": {},
   "outputs": [],
   "source": [
    "nlp = spacy.load(\"en_core_web_sm\")"
   ]
  },
  {
   "cell_type": "code",
   "execution_count": 3,
   "id": "d28361ca-17b0-4043-913a-c39a94e27d05",
   "metadata": {},
   "outputs": [],
   "source": [
    "doc = nlp(\"Dr. Strange loves briyani of Dhaka. Hulk loves mezban of Chittagong\")"
   ]
  },
  {
   "cell_type": "markdown",
   "id": "4c64908b-71d1-438a-aa13-33337f0b9c64",
   "metadata": {},
   "source": [
    "<b>Sentence Tokenization"
   ]
  },
  {
   "cell_type": "code",
   "execution_count": 4,
   "id": "8110eab7-820e-4478-bc64-e82b30b4f57e",
   "metadata": {},
   "outputs": [
    {
     "name": "stdout",
     "output_type": "stream",
     "text": [
      "Dr. Strange loves briyani of Dhaka.\n",
      "Hulk loves mezban of Chittagong\n"
     ]
    }
   ],
   "source": [
    "for sentence in doc.sents:\n",
    "    print(sentence)"
   ]
  },
  {
   "cell_type": "markdown",
   "id": "59b50c30-9045-4b55-9f4a-e1b356be53b2",
   "metadata": {},
   "source": [
    "<b>Word Tokenization"
   ]
  },
  {
   "cell_type": "code",
   "execution_count": 5,
   "id": "a09983fa-ec6e-40d4-b5fb-0ad38d987acd",
   "metadata": {},
   "outputs": [
    {
     "name": "stdout",
     "output_type": "stream",
     "text": [
      "Dr.\n",
      "Strange\n",
      "loves\n",
      "briyani\n",
      "of\n",
      "Dhaka\n",
      ".\n",
      "Hulk\n",
      "loves\n",
      "mezban\n",
      "of\n",
      "Chittagong\n"
     ]
    }
   ],
   "source": [
    "for sentence in doc.sents:\n",
    "    for word in sentence:\n",
    "        print(word)"
   ]
  },
  {
   "cell_type": "markdown",
   "id": "9853e6fb-ad08-4e21-a9a7-39b1dc18236d",
   "metadata": {},
   "source": [
    "<b>Sentence & Word Tokenization In NLTK"
   ]
  },
  {
   "cell_type": "code",
   "execution_count": 6,
   "id": "6303fb26-f67e-4ee7-a062-e8e6ec23b64b",
   "metadata": {},
   "outputs": [],
   "source": [
    "from nltk.tokenize import sent_tokenize\n",
    "import nltk"
   ]
  },
  {
   "cell_type": "markdown",
   "id": "d1563139-5647-43bb-9b5e-876e1e74c140",
   "metadata": {},
   "source": [
    "<b>Sentence Tokenization"
   ]
  },
  {
   "cell_type": "code",
   "execution_count": 7,
   "id": "32076e25-451f-4ea8-a372-4100a7d4994e",
   "metadata": {},
   "outputs": [
    {
     "data": {
      "text/plain": [
       "['Dr.', 'Strange loves briyani of Dhaka.', 'Hulk loves mezban of Chittagong']"
      ]
     },
     "execution_count": 7,
     "metadata": {},
     "output_type": "execute_result"
    }
   ],
   "source": [
    "sent_tokenize(\"Dr. Strange loves briyani of Dhaka. Hulk loves mezban of Chittagong\")"
   ]
  },
  {
   "cell_type": "markdown",
   "id": "4557bfe1-3536-456b-96fb-27bb640aa398",
   "metadata": {},
   "source": [
    "<b>Word Tokenization"
   ]
  },
  {
   "cell_type": "code",
   "execution_count": 8,
   "id": "266b4682-67ee-4b74-afda-49daf7843e58",
   "metadata": {},
   "outputs": [],
   "source": [
    "from nltk.tokenize import word_tokenize"
   ]
  },
  {
   "cell_type": "code",
   "execution_count": 9,
   "id": "76350dc8-7936-4fd5-9adf-fc1be5c40582",
   "metadata": {
    "scrolled": true
   },
   "outputs": [
    {
     "data": {
      "text/plain": [
       "['Dr',\n",
       " '.',\n",
       " 'Strange',\n",
       " 'loves',\n",
       " 'briyani',\n",
       " 'of',\n",
       " 'Dhaka',\n",
       " '.',\n",
       " 'Hulk',\n",
       " 'loves',\n",
       " 'mezban',\n",
       " 'of',\n",
       " 'Chittagong']"
      ]
     },
     "execution_count": 9,
     "metadata": {},
     "output_type": "execute_result"
    }
   ],
   "source": [
    "word_tokenize(\"Dr. Strange loves briyani of Dhaka. Hulk loves mezban of Chittagong\")"
   ]
  },
  {
   "cell_type": "markdown",
   "id": "9ec21959-670a-4a79-aa2d-a9fe24d1c478",
   "metadata": {},
   "source": [
    "<b>From above code you can see that Spacy is object oriented whereas NLTK is a string processing library"
   ]
  },
  {
   "cell_type": "code",
   "execution_count": 10,
   "id": "1a4562a6-cb07-4c92-95f3-ea3cabf53f44",
   "metadata": {},
   "outputs": [
    {
     "name": "stdout",
     "output_type": "stream",
     "text": [
      "showing info https://raw.githubusercontent.com/nltk/nltk_data/gh-pages/index.xml\n"
     ]
    },
    {
     "data": {
      "text/plain": [
       "True"
      ]
     },
     "execution_count": 10,
     "metadata": {},
     "output_type": "execute_result"
    }
   ],
   "source": [
    "nltk.download()"
   ]
  }
 ],
 "metadata": {
  "kernelspec": {
   "display_name": "Python 3.10 (TensorFlow)",
   "language": "python",
   "name": "python310"
  },
  "language_info": {
   "codemirror_mode": {
    "name": "ipython",
    "version": 3
   },
   "file_extension": ".py",
   "mimetype": "text/x-python",
   "name": "python",
   "nbconvert_exporter": "python",
   "pygments_lexer": "ipython3",
   "version": "3.10.11"
  }
 },
 "nbformat": 4,
 "nbformat_minor": 5
}
