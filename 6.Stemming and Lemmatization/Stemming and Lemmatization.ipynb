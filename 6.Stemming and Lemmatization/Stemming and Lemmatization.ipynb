{
 "cells": [
  {
   "cell_type": "markdown",
   "id": "2bf32c63-83cf-4ead-8f1b-6c231e87645f",
   "metadata": {},
   "source": [
    "<center><h1>Stemming and Lemmatization</center>"
   ]
  },
  {
   "cell_type": "code",
   "execution_count": 1,
   "id": "792782a6-fc38-461b-aaed-18e84d6757a3",
   "metadata": {},
   "outputs": [],
   "source": [
    "import nltk\n",
    "import spacy"
   ]
  },
  {
   "cell_type": "markdown",
   "id": "68d51a1e-875e-4c0f-af21-d16ebddbb422",
   "metadata": {},
   "source": [
    "<b>Stemming at NLTK"
   ]
  },
  {
   "cell_type": "markdown",
   "id": "7fbdb028-61ea-4b18-aeb6-950e9ebd88e3",
   "metadata": {},
   "source": [
    "<b>Porter Stemmer"
   ]
  },
  {
   "cell_type": "code",
   "execution_count": 2,
   "id": "b84f9119-f3ff-49cc-af12-598d22cf88d8",
   "metadata": {},
   "outputs": [],
   "source": [
    "from nltk.stem import PorterStemmer"
   ]
  },
  {
   "cell_type": "code",
   "execution_count": 3,
   "id": "dbc11349-16ef-45f5-a7ac-2596bbdfe607",
   "metadata": {},
   "outputs": [],
   "source": [
    "stemmer = PorterStemmer()"
   ]
  },
  {
   "cell_type": "code",
   "execution_count": 4,
   "id": "1b64f8ce-037b-4e9c-a92f-fb0c748b4b16",
   "metadata": {},
   "outputs": [],
   "source": [
    "words = [\"eating\", \"eats\", \"eat\", \"ate\", \"adjustable\", \"rafting\", \"ability\", \"meeting\",\"running\",\n",
    "         \"flies\", \"better\", \"children\", \"leaves\", \"studies\", \"playing\"]"
   ]
  },
  {
   "cell_type": "code",
   "execution_count": 5,
   "id": "15bd472d-bd04-4fb6-b1eb-3115ee61e597",
   "metadata": {},
   "outputs": [
    {
     "name": "stdout",
     "output_type": "stream",
     "text": [
      "eating | eat\n",
      "eats | eat\n",
      "eat | eat\n",
      "ate | ate\n",
      "adjustable | adjust\n",
      "rafting | raft\n",
      "ability | abil\n",
      "meeting | meet\n",
      "running | run\n",
      "flies | fli\n",
      "better | better\n",
      "children | children\n",
      "leaves | leav\n",
      "studies | studi\n",
      "playing | play\n"
     ]
    }
   ],
   "source": [
    "for word in words:\n",
    "    print(word, \"|\", stemmer.stem(word))"
   ]
  },
  {
   "cell_type": "markdown",
   "id": "9be46cc2-8b90-4b36-93a1-f3a5e601e89e",
   "metadata": {},
   "source": [
    "<b>Lancaster Stemmer"
   ]
  },
  {
   "cell_type": "code",
   "execution_count": 6,
   "id": "5c9bbde7-fe10-4407-be26-bcb89b1a44ed",
   "metadata": {},
   "outputs": [],
   "source": [
    "from nltk.stem import LancasterStemmer"
   ]
  },
  {
   "cell_type": "code",
   "execution_count": 7,
   "id": "e34cba1a-b4c4-4584-833f-30f7fba21747",
   "metadata": {},
   "outputs": [],
   "source": [
    "lancaster = LancasterStemmer()"
   ]
  },
  {
   "cell_type": "code",
   "execution_count": 8,
   "id": "56a9c601-9042-42cd-87cc-5358b54959dd",
   "metadata": {},
   "outputs": [
    {
     "name": "stdout",
     "output_type": "stream",
     "text": [
      "eating | eat\n",
      "eats | eat\n",
      "eat | eat\n",
      "ate | at\n",
      "adjustable | adjust\n",
      "rafting | raft\n",
      "ability | abl\n",
      "meeting | meet\n",
      "running | run\n",
      "flies | fli\n",
      "better | bet\n",
      "children | childr\n",
      "leaves | leav\n",
      "studies | study\n",
      "playing | play\n"
     ]
    }
   ],
   "source": [
    "for word in words:\n",
    "    print(word, \"|\", lancaster.stem(word))"
   ]
  },
  {
   "cell_type": "markdown",
   "id": "9846a0f4-8235-4bd3-9c6c-2f7da246e9d5",
   "metadata": {},
   "source": [
    "<b>Snowball Stemmer"
   ]
  },
  {
   "cell_type": "code",
   "execution_count": 9,
   "id": "4aa1b887-949f-4ca4-a8de-691c7295041f",
   "metadata": {},
   "outputs": [],
   "source": [
    "from nltk.stem import SnowballStemmer"
   ]
  },
  {
   "cell_type": "code",
   "execution_count": 10,
   "id": "03f99ec2-428c-41c7-a8fb-eab5a6132849",
   "metadata": {},
   "outputs": [],
   "source": [
    "snowball = SnowballStemmer(\"english\")"
   ]
  },
  {
   "cell_type": "code",
   "execution_count": 11,
   "id": "2fbcdd1c-d9fb-420c-84dc-4c57680ea007",
   "metadata": {},
   "outputs": [
    {
     "name": "stdout",
     "output_type": "stream",
     "text": [
      "eating | eat\n",
      "eats | eat\n",
      "eat | eat\n",
      "ate | ate\n",
      "adjustable | adjust\n",
      "rafting | raft\n",
      "ability | abil\n",
      "meeting | meet\n",
      "running | run\n",
      "flies | fli\n",
      "better | better\n",
      "children | children\n",
      "leaves | leav\n",
      "studies | studi\n",
      "playing | play\n"
     ]
    }
   ],
   "source": [
    "for word in words:\n",
    "    print(word, \"|\", snowball.stem(word))"
   ]
  },
  {
   "cell_type": "markdown",
   "id": "207d5aa6-42d3-4df8-89cb-6715ff37c51d",
   "metadata": {},
   "source": [
    "- Porter Stemmer: Commonly used, but sometimes over-stems words.\n",
    "- Lancaster Stemmer: More aggressive, often cutting words too short.\n",
    "- Snowball Stemmer: More accurate, supports multiple languages."
   ]
  },
  {
   "cell_type": "markdown",
   "id": "7f143373-591e-4e00-92f3-60b1f511e196",
   "metadata": {},
   "source": [
    "<b>Lemmatization in NLTK"
   ]
  },
  {
   "cell_type": "code",
   "execution_count": 12,
   "id": "35b9bb22-9f1e-43e7-8c3b-9d78a1c348d1",
   "metadata": {},
   "outputs": [],
   "source": [
    "from nltk.stem import WordNetLemmatizer\n",
    "from nltk.corpus import wordnet"
   ]
  },
  {
   "cell_type": "code",
   "execution_count": 13,
   "id": "941790bb-8e71-4c77-a3a2-e86259822702",
   "metadata": {},
   "outputs": [
    {
     "name": "stderr",
     "output_type": "stream",
     "text": [
      "[nltk_data] Downloading package wordnet to\n",
      "[nltk_data]     C:\\Users\\Hp\\AppData\\Roaming\\nltk_data...\n",
      "[nltk_data]   Package wordnet is already up-to-date!\n",
      "[nltk_data] Downloading package omw-1.4 to\n",
      "[nltk_data]     C:\\Users\\Hp\\AppData\\Roaming\\nltk_data...\n",
      "[nltk_data]   Package omw-1.4 is already up-to-date!\n"
     ]
    },
    {
     "data": {
      "text/plain": [
       "True"
      ]
     },
     "execution_count": 13,
     "metadata": {},
     "output_type": "execute_result"
    }
   ],
   "source": [
    "nltk.download('wordnet')\n",
    "nltk.download('omw-1.4')"
   ]
  },
  {
   "cell_type": "code",
   "execution_count": 14,
   "id": "5c77fee3-efe5-4ed3-a641-b5bf4c3cb119",
   "metadata": {},
   "outputs": [],
   "source": [
    "lemmatizer = WordNetLemmatizer()"
   ]
  },
  {
   "cell_type": "code",
   "execution_count": 15,
   "id": "738181fb-e0f7-41a9-9a21-8e7dd34cf443",
   "metadata": {},
   "outputs": [
    {
     "name": "stdout",
     "output_type": "stream",
     "text": [
      "Lemmatized (default as noun): ['eating', 'eats', 'eat', 'ate', 'adjustable', 'rafting', 'ability', 'meeting', 'running', 'fly', 'better', 'child', 'leaf', 'study', 'playing']\n",
      "Lemmatized (as verb): run\n",
      "Lemmatized (as adjective): good\n"
     ]
    }
   ],
   "source": [
    "# Lemmatizing words as nouns (default)\n",
    "lemmatized_words = [lemmatizer.lemmatize(word) for word in words]\n",
    "print(\"Lemmatized (default as noun):\", lemmatized_words)\n",
    "\n",
    "# Lemmatizing with different POS tags\n",
    "print(\"Lemmatized (as verb):\", lemmatizer.lemmatize(\"running\", pos='v'))  # Run\n",
    "print(\"Lemmatized (as adjective):\", lemmatizer.lemmatize(\"better\", pos='a'))  # Good"
   ]
  },
  {
   "cell_type": "code",
   "execution_count": 16,
   "id": "cfcc96a5-96bc-44fc-8041-8c0aca89d9d9",
   "metadata": {},
   "outputs": [],
   "source": [
    "from nltk import pos_tag\n",
    "from nltk.tokenize import word_tokenize"
   ]
  },
  {
   "cell_type": "code",
   "execution_count": 17,
   "id": "61effe29-9bdd-4638-b387-b101f0732e4e",
   "metadata": {},
   "outputs": [
    {
     "name": "stderr",
     "output_type": "stream",
     "text": [
      "[nltk_data] Downloading package averaged_perceptron_tagger to\n",
      "[nltk_data]     C:\\Users\\Hp\\AppData\\Roaming\\nltk_data...\n",
      "[nltk_data]   Package averaged_perceptron_tagger is already up-to-\n",
      "[nltk_data]       date!\n"
     ]
    },
    {
     "data": {
      "text/plain": [
       "True"
      ]
     },
     "execution_count": 17,
     "metadata": {},
     "output_type": "execute_result"
    }
   ],
   "source": [
    "nltk.download('averaged_perceptron_tagger')"
   ]
  },
  {
   "cell_type": "markdown",
   "id": "a09a14a9-ebce-49b5-82e0-5fa70f767998",
   "metadata": {},
   "source": [
    "<b>Spacy doesn't support Stemming"
   ]
  },
  {
   "cell_type": "markdown",
   "id": "8be769dc-7614-4009-a457-3002094e19bb",
   "metadata": {},
   "source": [
    "<b>Lemmatization in Spacy"
   ]
  },
  {
   "cell_type": "code",
   "execution_count": 18,
   "id": "c128db9a-85dd-430d-ba48-caa2f9ae1a1d",
   "metadata": {},
   "outputs": [
    {
     "name": "stdout",
     "output_type": "stream",
     "text": [
      "eating  |  eat  |  9837207709914848172\n",
      "eats  |  eat  |  9837207709914848172\n",
      "eat  |  eat  |  9837207709914848172\n",
      "ate  |  eat  |  9837207709914848172\n",
      "adjustable  |  adjustable  |  6033511944150694480\n",
      "rafting  |  raft  |  7154368781129989833\n",
      "ability  |  ability  |  11565809527369121409\n",
      "meeting  |  meet  |  6880656908171229526\n",
      "better  |  well  |  4525988469032889948\n"
     ]
    }
   ],
   "source": [
    "nlp = spacy.load(\"en_core_web_sm\")\n",
    "\n",
    "doc = nlp(\"eating eats eat ate adjustable rafting ability meeting better\")\n",
    "for token in doc:\n",
    "    print(token, \" | \", token.lemma_, \" | \",token.lemma)"
   ]
  },
  {
   "cell_type": "markdown",
   "id": "4b87a540-f08d-46d8-9a79-7fe69d731af8",
   "metadata": {},
   "source": [
    "<b>Customizing lemmatizer"
   ]
  },
  {
   "cell_type": "code",
   "execution_count": 19,
   "id": "78168a2e-a8cf-47e2-afca-9cd37baba9fc",
   "metadata": {},
   "outputs": [
    {
     "data": {
      "text/plain": [
       "['tok2vec', 'tagger', 'parser', 'attribute_ruler', 'lemmatizer', 'ner']"
      ]
     },
     "execution_count": 19,
     "metadata": {},
     "output_type": "execute_result"
    }
   ],
   "source": [
    "nlp.pipe_names"
   ]
  },
  {
   "cell_type": "code",
   "execution_count": 20,
   "id": "99a56aff-aaf3-4cf5-992d-2bd0dd695bec",
   "metadata": {},
   "outputs": [
    {
     "name": "stdout",
     "output_type": "stream",
     "text": [
      "Bro | Brother\n",
      ", | ,\n",
      "you | you\n",
      "wanna | wanna\n",
      "go | go\n",
      "? | ?\n",
      "Brah | Brother\n",
      ", | ,\n",
      "do | do\n",
      "n't | not\n",
      "say | say\n",
      "no | no\n",
      "! | !\n",
      "I | I\n",
      "am | be\n",
      "exhausted | exhaust\n"
     ]
    }
   ],
   "source": [
    "ar = nlp.get_pipe('attribute_ruler')\n",
    "\n",
    "ar.add([[{\"TEXT\":\"Bro\"}],[{\"TEXT\":\"Brah\"}]],{\"LEMMA\":\"Brother\"})\n",
    "\n",
    "doc = nlp(\"Bro, you wanna go? Brah, don't say no! I am exhausted\")\n",
    "for token in doc:\n",
    "    print(token.text, \"|\", token.lemma_)"
   ]
  },
  {
   "cell_type": "code",
   "execution_count": 21,
   "id": "bdfba1dd-b10d-48cf-bdc4-75b9b6fa96aa",
   "metadata": {},
   "outputs": [
    {
     "data": {
      "text/plain": [
       "Brah"
      ]
     },
     "execution_count": 21,
     "metadata": {},
     "output_type": "execute_result"
    }
   ],
   "source": [
    "doc[6]"
   ]
  },
  {
   "cell_type": "code",
   "execution_count": 22,
   "id": "4da61754-71d9-4162-82ca-41b0b5210f16",
   "metadata": {},
   "outputs": [
    {
     "data": {
      "text/plain": [
       "'Brother'"
      ]
     },
     "execution_count": 22,
     "metadata": {},
     "output_type": "execute_result"
    }
   ],
   "source": [
    "doc[6].lemma_"
   ]
  }
 ],
 "metadata": {
  "kernelspec": {
   "display_name": "Python 3.10 (TensorFlow)",
   "language": "python",
   "name": "python310"
  },
  "language_info": {
   "codemirror_mode": {
    "name": "ipython",
    "version": 3
   },
   "file_extension": ".py",
   "mimetype": "text/x-python",
   "name": "python",
   "nbconvert_exporter": "python",
   "pygments_lexer": "ipython3",
   "version": "3.10.11"
  }
 },
 "nbformat": 4,
 "nbformat_minor": 5
}
