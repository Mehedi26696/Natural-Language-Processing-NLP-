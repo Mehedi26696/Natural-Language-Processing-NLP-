{
 "cells": [
  {
   "cell_type": "markdown",
   "id": "337dda2f-8694-4853-87c6-bde9e00977fe",
   "metadata": {},
   "source": [
    "<center><h1 style=\"color:blue\">Stop Words</center>"
   ]
  },
  {
   "cell_type": "code",
   "execution_count": 1,
   "id": "cc054cf3-f79d-4179-bfa7-06038977f794",
   "metadata": {},
   "outputs": [],
   "source": [
    "import spacy\n",
    "nlp = spacy.load(\"en_core_web_sm\")"
   ]
  },
  {
   "cell_type": "markdown",
   "id": "dd96f389-9885-454b-aa67-5f2d3e10b0be",
   "metadata": {},
   "source": [
    "<b>Exercise1:\n",
    "\n",
    "- From a Given Text, Count the number of stop words in it.\n",
    "- Print the percentage of stop word tokens compared to all tokens in a given text."
   ]
  },
  {
   "cell_type": "code",
   "execution_count": 2,
   "id": "5aace3c9-f086-4077-aa9c-8352438fc608",
   "metadata": {},
   "outputs": [],
   "source": [
    "text = '''\n",
    "Thor: Love and Thunder is a 2022 American superhero film based on Marvel Comics featuring the character Thor, produced by Marvel Studios and \n",
    "distributed by Walt Disney Studios Motion Pictures. It is the sequel to Thor: Ragnarok (2017) and the 29th film in the Marvel Cinematic Universe (MCU).\n",
    "The film is directed by Taika Waititi, who co-wrote the script with Jennifer Kaytin Robinson, and stars Chris Hemsworth as Thor alongside Christian Bale, Tessa Thompson,\n",
    "Jaimie Alexander, Waititi, Russell Crowe, and Natalie Portman. In the film, Thor attempts to find inner peace, but must return to action and recruit Valkyrie (Thompson),\n",
    "Korg (Waititi), and Jane Foster (Portman)—who is now the Mighty Thor—to stop Gorr the God Butcher (Bale) from eliminating all gods.\n",
    "'''"
   ]
  },
  {
   "cell_type": "code",
   "execution_count": 3,
   "id": "9af7c313-979c-400f-9f9f-a1196003a70f",
   "metadata": {},
   "outputs": [],
   "source": [
    "doc = nlp(text)"
   ]
  },
  {
   "cell_type": "code",
   "execution_count": 4,
   "id": "fb9c29d3-07fc-4186-ba99-72ac65da5af4",
   "metadata": {},
   "outputs": [],
   "source": [
    "stop_words_count = 0\n",
    "total_words_count = 0"
   ]
  },
  {
   "cell_type": "code",
   "execution_count": 5,
   "id": "147ed0b6-4770-4b93-9dad-160ad4b94fd9",
   "metadata": {},
   "outputs": [],
   "source": [
    "for token in doc:\n",
    "  if token.is_stop:             \n",
    "    stop_words_count += 1\n",
    "  total_words_count +=  1"
   ]
  },
  {
   "cell_type": "code",
   "execution_count": 6,
   "id": "239c2a70-82ca-427d-a099-5a0add8879b6",
   "metadata": {},
   "outputs": [
    {
     "name": "stdout",
     "output_type": "stream",
     "text": [
      "Total Stop words presented in the given text: 40\n"
     ]
    }
   ],
   "source": [
    "print(f\"Total Stop words presented in the given text: {stop_words_count}\")"
   ]
  },
  {
   "cell_type": "code",
   "execution_count": 7,
   "id": "19f2b208-2a85-49ce-96e3-a8a60486fe5f",
   "metadata": {},
   "outputs": [
    {
     "name": "stdout",
     "output_type": "stream",
     "text": [
      "Percentage of Stop words presented in the given text: 25.0 %\n"
     ]
    }
   ],
   "source": [
    "percentage_stop_words = (stop_words_count / total_words_count) * 100\n",
    "print(f\"Percentage of Stop words presented in the given text: {percentage_stop_words} %\")"
   ]
  },
  {
   "cell_type": "markdown",
   "id": "aa6523e3-f613-4651-9780-3579392093a7",
   "metadata": {},
   "source": [
    "<b>Exercise2:\n",
    "\n",
    "Spacy default implementation considers \"not\" as a stop word. But in some scenarios removing 'not' will completely change the meaning of the statement/text. For Example, consider these two statements:\n",
    "\n",
    "- this is a good movie       ----> Positive Statement\n",
    "- this is not a good movie   ----> Negative Statement\n",
    "So, after applying stopwords to those 2 texts, both will return \"good movie\" and does not respect the polarity/sentiments of text.\n",
    "\n",
    "Now, your task is to remove this stop word \"not\" in spaCy and help in distinguishing the texts."
   ]
  },
  {
   "cell_type": "code",
   "execution_count": 8,
   "id": "2acf3d4f-9743-4d06-b0f4-0c9a1aa15d02",
   "metadata": {},
   "outputs": [],
   "source": [
    "def preprocess(text):\n",
    "    doc = nlp(text)\n",
    "    no_stop_words = [token.text for token in doc if not token.is_stop]\n",
    "    return \" \".join(no_stop_words)    "
   ]
  },
  {
   "cell_type": "code",
   "execution_count": 9,
   "id": "47514509-9d78-4cd3-a655-d4b4e1350ebb",
   "metadata": {},
   "outputs": [],
   "source": [
    "nlp.vocab['not'].is_stop = False"
   ]
  },
  {
   "cell_type": "code",
   "execution_count": 10,
   "id": "7ca10660-ea89-4c32-a69f-765031372c99",
   "metadata": {},
   "outputs": [],
   "source": [
    "positive_text = preprocess('this is a good movie')\n",
    "negative_text = preprocess('this is not a good movie')"
   ]
  },
  {
   "cell_type": "code",
   "execution_count": 11,
   "id": "2498c15c-26d2-40ca-9bfc-b117a7ec6108",
   "metadata": {},
   "outputs": [
    {
     "name": "stdout",
     "output_type": "stream",
     "text": [
      "Text1: good movie\n",
      "Text2: not good movie\n"
     ]
    }
   ],
   "source": [
    "print(f\"Text1: {positive_text}\")\n",
    "print(f\"Text2: {negative_text}\")"
   ]
  },
  {
   "cell_type": "markdown",
   "id": "42fb3127-abfb-421f-89b5-844d1a4d70d5",
   "metadata": {},
   "source": [
    "<b>Exercise3:\n",
    "\n",
    "From a given text, output the most frequently used token after removing all the stop word tokens and punctuations in it."
   ]
  },
  {
   "cell_type": "code",
   "execution_count": 12,
   "id": "6902c501-2289-4887-864f-897bad64dc04",
   "metadata": {},
   "outputs": [],
   "source": [
    "text = ''' The Bangladesh men's national cricket team, also known as the Tigers, represents Bangladesh in men's international cricket.\n",
    "It is governed by the Bangladesh Cricket Board (BCB) and is a Full Member of the International Cricket Council (ICC) with Test,\n",
    "One Day International (ODI), and Twenty20 International (T20I) status. Cricket was introduced to Bangladesh during the British colonial period, and the\n",
    "first cricket club was established in the 19th century. Bangladesh's national cricket team played its first Test match on 10 November 2000 at Bangabandhu National Stadium,\n",
    "becoming the tenth team to be granted Test cricket status.\n",
    "'''"
   ]
  },
  {
   "cell_type": "code",
   "execution_count": 13,
   "id": "e275de6c-00d8-4a14-937c-d4cfb25d44f7",
   "metadata": {},
   "outputs": [],
   "source": [
    "doc = nlp(text)"
   ]
  },
  {
   "cell_type": "code",
   "execution_count": 14,
   "id": "05c4b652-747f-414a-b436-cf78d2cf3733",
   "metadata": {},
   "outputs": [],
   "source": [
    "remaining_tokens = []\n",
    "for token in doc:\n",
    "  if token.is_stop or token.is_punct:     \n",
    "    continue\n",
    "  remaining_tokens.append(token.text)"
   ]
  },
  {
   "cell_type": "code",
   "execution_count": 15,
   "id": "e117827a-cdf1-4daf-aadb-69b822e6ae54",
   "metadata": {},
   "outputs": [],
   "source": [
    "frequency_tokens = {}\n",
    "for token in remaining_tokens:\n",
    "  if token != '\\n' and token != ' ':       \n",
    "    if token not in frequency_tokens:      \n",
    "      frequency_tokens[token] = 1\n",
    "    else:\n",
    "      frequency_tokens[token] += 1         \n"
   ]
  },
  {
   "cell_type": "code",
   "execution_count": 16,
   "id": "9e9dee71-1da1-42a3-89df-c3a18c360d29",
   "metadata": {},
   "outputs": [],
   "source": [
    "max_freq_word = max(frequency_tokens.keys(), key=(lambda key: frequency_tokens[key]))"
   ]
  },
  {
   "cell_type": "code",
   "execution_count": 17,
   "id": "999697a7-1ee2-4515-a35e-299fdf3a7694",
   "metadata": {},
   "outputs": [
    {
     "name": "stdout",
     "output_type": "stream",
     "text": [
      "Maximum frequency word: Bangladesh\n"
     ]
    }
   ],
   "source": [
    "print(f\"Maximum frequency word: {max_freq_word}\") "
   ]
  }
 ],
 "metadata": {
  "kernelspec": {
   "display_name": "Python 3.10 (TensorFlow)",
   "language": "python",
   "name": "python310"
  },
  "language_info": {
   "codemirror_mode": {
    "name": "ipython",
    "version": 3
   },
   "file_extension": ".py",
   "mimetype": "text/x-python",
   "name": "python",
   "nbconvert_exporter": "python",
   "pygments_lexer": "ipython3",
   "version": "3.10.11"
  }
 },
 "nbformat": 4,
 "nbformat_minor": 5
}
