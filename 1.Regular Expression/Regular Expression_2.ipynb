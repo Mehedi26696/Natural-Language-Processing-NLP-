{
 "cells": [
  {
   "cell_type": "markdown",
   "id": "6d3e0bfd-666a-4180-995c-10c84914b013",
   "metadata": {},
   "source": [
    "<center><h1>Regular Expression</center>"
   ]
  },
  {
   "cell_type": "code",
   "execution_count": 1,
   "id": "ad14b67a-9a84-4e1a-bdec-2556c43235e3",
   "metadata": {},
   "outputs": [],
   "source": [
    "import re"
   ]
  },
  {
   "cell_type": "markdown",
   "id": "136727a7-d5ee-443c-94d7-8d2caabcce31",
   "metadata": {},
   "source": [
    "<b>Retrieve order number"
   ]
  },
  {
   "cell_type": "code",
   "execution_count": 5,
   "id": "12ef1b1e-7640-48ab-886a-dab93afa686d",
   "metadata": {},
   "outputs": [
    {
     "data": {
      "text/plain": [
       "['412889912']"
      ]
     },
     "execution_count": 5,
     "metadata": {},
     "output_type": "execute_result"
    }
   ],
   "source": [
    "chat1='Mehedi: Hello, I am having an issue with my order # 412889912'\n",
    "\n",
    "pattern = r'order[^\\d]*(\\d*)'\n",
    "matches = re.findall(pattern, chat1)\n",
    "matches"
   ]
  },
  {
   "cell_type": "code",
   "execution_count": 6,
   "id": "0890af0b-e34d-4a8a-949a-0b3a58184398",
   "metadata": {},
   "outputs": [
    {
     "data": {
      "text/plain": [
       "['412889912']"
      ]
     },
     "execution_count": 6,
     "metadata": {},
     "output_type": "execute_result"
    }
   ],
   "source": [
    "chat2='Mehedi: I have a problem with my order number 412889912'\n",
    "pattern = r'order[^\\d]*(\\d*)'\n",
    "matches = re.findall(pattern, chat2)\n",
    "matches"
   ]
  },
  {
   "cell_type": "code",
   "execution_count": 8,
   "id": "d346a61d-3885-41c3-8876-07ae09d17336",
   "metadata": {},
   "outputs": [
    {
     "data": {
      "text/plain": [
       "['412889912']"
      ]
     },
     "execution_count": 8,
     "metadata": {},
     "output_type": "execute_result"
    }
   ],
   "source": [
    "chat3='Mehedi: My order 412889912 is having an issue, I was charged 300$ when online it says 280$'\n",
    "pattern = r'order[^\\d]*(\\d*)'\n",
    "matches = re.findall(pattern, chat3)\n",
    "matches"
   ]
  },
  {
   "cell_type": "code",
   "execution_count": 9,
   "id": "4b61b00f-a84d-4f96-9bb3-538e58d2bef5",
   "metadata": {},
   "outputs": [],
   "source": [
    "def get_pattern_match(pattern, text):\n",
    "    matches = re.findall(pattern, text)\n",
    "    if matches:\n",
    "        return matches[0]"
   ]
  },
  {
   "cell_type": "code",
   "execution_count": 11,
   "id": "4c6c62b2-6c94-475b-91fc-05d99cede274",
   "metadata": {},
   "outputs": [
    {
     "data": {
      "text/plain": [
       "'412889912'"
      ]
     },
     "execution_count": 11,
     "metadata": {},
     "output_type": "execute_result"
    }
   ],
   "source": [
    "get_pattern_match(r'order[^\\d]*(\\d*)', chat1)"
   ]
  },
  {
   "cell_type": "markdown",
   "id": "b3e3da80-ba68-4b07-981b-8aedf89b035a",
   "metadata": {},
   "source": [
    "<b>Retrieve email id and phone"
   ]
  },
  {
   "cell_type": "code",
   "execution_count": 13,
   "id": "1c4df691-8540-4e14-8372-24b3e0f50eaa",
   "metadata": {},
   "outputs": [],
   "source": [
    "chat1 = 'Mehedi: you ask lot of questions 😠  1235678912, abc@xyz.com'\n",
    "chat2 = 'Mehedi: here it is: (123)-567-8912, abc@xyz.com'\n",
    "chat3 = 'Mehedi: yes, phone: 1235678912 email: abc@xyz.com'"
   ]
  },
  {
   "cell_type": "markdown",
   "id": "599066d0-b787-4caf-8cec-dcf9619a1773",
   "metadata": {},
   "source": [
    "<b>Email ID"
   ]
  },
  {
   "cell_type": "code",
   "execution_count": 15,
   "id": "14f7ec1c-d41c-4260-804d-02e1d3a9046c",
   "metadata": {},
   "outputs": [
    {
     "data": {
      "text/plain": [
       "'abc@xyz.com'"
      ]
     },
     "execution_count": 15,
     "metadata": {},
     "output_type": "execute_result"
    }
   ],
   "source": [
    "get_pattern_match(r'[a-zA-Z0-9_]*@[a-z]*\\.[a-zA-Z0-9]*',chat1)"
   ]
  },
  {
   "cell_type": "code",
   "execution_count": 16,
   "id": "10f96c33-07e6-4509-b059-3528c0b45497",
   "metadata": {},
   "outputs": [
    {
     "data": {
      "text/plain": [
       "'abc@xyz.com'"
      ]
     },
     "execution_count": 16,
     "metadata": {},
     "output_type": "execute_result"
    }
   ],
   "source": [
    "get_pattern_match(r'[a-zA-Z0-9_]*@[a-z]*\\.[a-zA-Z0-9]*',chat2)"
   ]
  },
  {
   "cell_type": "code",
   "execution_count": 17,
   "id": "193df923-38ec-4587-9f27-8c21ef7e8983",
   "metadata": {},
   "outputs": [
    {
     "data": {
      "text/plain": [
       "'abc@xyz.com'"
      ]
     },
     "execution_count": 17,
     "metadata": {},
     "output_type": "execute_result"
    }
   ],
   "source": [
    "get_pattern_match(r'[a-zA-Z0-9_]*@[a-z]*\\.[a-zA-Z0-9]*',chat3)"
   ]
  },
  {
   "cell_type": "markdown",
   "id": "b0407b36-a5eb-4e07-ac7c-f7327c0703b6",
   "metadata": {},
   "source": [
    "<b>Phone No"
   ]
  },
  {
   "cell_type": "code",
   "execution_count": 18,
   "id": "96696888-1be9-4a8a-80cf-0d31ae9a872d",
   "metadata": {},
   "outputs": [
    {
     "data": {
      "text/plain": [
       "('1235678912', '')"
      ]
     },
     "execution_count": 18,
     "metadata": {},
     "output_type": "execute_result"
    }
   ],
   "source": [
    "get_pattern_match(r'(\\d{10})|(\\(\\d{3}\\)-\\d{3}-\\d{4})',chat1)"
   ]
  },
  {
   "cell_type": "code",
   "execution_count": 20,
   "id": "dde6f122-44d2-4cea-b9f0-8ba0015178db",
   "metadata": {},
   "outputs": [
    {
     "data": {
      "text/plain": [
       "('', '(123)-567-8912')"
      ]
     },
     "execution_count": 20,
     "metadata": {},
     "output_type": "execute_result"
    }
   ],
   "source": [
    "get_pattern_match(r'(\\d{10})|(\\(\\d{3}\\)-\\d{3}-\\d{4})',chat2)"
   ]
  },
  {
   "cell_type": "code",
   "execution_count": 21,
   "id": "cd1127cf-49b9-44e7-824d-f4595838e429",
   "metadata": {},
   "outputs": [
    {
     "data": {
      "text/plain": [
       "('1235678912', '')"
      ]
     },
     "execution_count": 21,
     "metadata": {},
     "output_type": "execute_result"
    }
   ],
   "source": [
    "get_pattern_match(r'(\\d{10})|(\\(\\d{3}\\)-\\d{3}-\\d{4})',chat3)"
   ]
  },
  {
   "cell_type": "markdown",
   "id": "62021775-4561-48da-8adf-07c07c3ce01a",
   "metadata": {},
   "source": [
    "<b>Regex for Information Extraction"
   ]
  },
  {
   "cell_type": "code",
   "execution_count": 23,
   "id": "33624015-19aa-46d0-80d9-d6a0115a2b19",
   "metadata": {},
   "outputs": [],
   "source": [
    "text='''\n",
    "Born\tElon Reeve Musk\n",
    "June 28, 1971 (age 50)\n",
    "Pretoria, Transvaal, South Africa\n",
    "Citizenship\t\n",
    "South Africa (1971–present)\n",
    "Canada (1971–present)\n",
    "United States (2002–present)\n",
    "Education\tUniversity of Pennsylvania (BS, BA)\n",
    "Title\t\n",
    "Founder, CEO and Chief Engineer of SpaceX\n",
    "CEO and product architect of Tesla, Inc.\n",
    "Founder of The Boring Company and X.com (now part of PayPal)\n",
    "Co-founder of Neuralink, OpenAI, and Zip2\n",
    "Spouse(s)\t\n",
    "Justine Wilson\n",
    "\n",
    "(m. 2000; div. 2008)\n",
    "Talulah Riley\n",
    "\n",
    "(m. 2010; div. 2012)\n",
    "\n",
    "(m. 2013; div. 2016)\n",
    "'''"
   ]
  },
  {
   "cell_type": "markdown",
   "id": "b3cfbe7e-c536-4cd9-8b28-aa15713f5496",
   "metadata": {},
   "source": [
    "<b>Age"
   ]
  },
  {
   "cell_type": "code",
   "execution_count": 24,
   "id": "7150e651-003e-4bc0-b690-c7dca708eafe",
   "metadata": {},
   "outputs": [
    {
     "data": {
      "text/plain": [
       "'50'"
      ]
     },
     "execution_count": 24,
     "metadata": {},
     "output_type": "execute_result"
    }
   ],
   "source": [
    "get_pattern_match(r'age (\\d+)', text)"
   ]
  },
  {
   "cell_type": "markdown",
   "id": "4581a7e4-ff64-4c8a-8040-00ba1395c859",
   "metadata": {},
   "source": [
    "<b>Name"
   ]
  },
  {
   "cell_type": "code",
   "execution_count": 25,
   "id": "c3286cb0-6072-4dab-82e2-2c7f2857e7d1",
   "metadata": {},
   "outputs": [
    {
     "data": {
      "text/plain": [
       "'\\tElon Reeve Musk'"
      ]
     },
     "execution_count": 25,
     "metadata": {},
     "output_type": "execute_result"
    }
   ],
   "source": [
    "get_pattern_match(r'Born(.*)\\n', text)"
   ]
  },
  {
   "cell_type": "code",
   "execution_count": 26,
   "id": "f3a5398b-6a4e-4059-a5ee-5b40111bbbca",
   "metadata": {},
   "outputs": [
    {
     "data": {
      "text/plain": [
       "'Elon Reeve Musk'"
      ]
     },
     "execution_count": 26,
     "metadata": {},
     "output_type": "execute_result"
    }
   ],
   "source": [
    "get_pattern_match(r'Born(.*)\\n', text).strip()"
   ]
  },
  {
   "cell_type": "markdown",
   "id": "d09fdc9f-c494-4fcb-9b62-9bb342f143ac",
   "metadata": {},
   "source": [
    "<b>Birthday"
   ]
  },
  {
   "cell_type": "code",
   "execution_count": 28,
   "id": "6cda9a63-1856-45e2-9580-fc1176da3b72",
   "metadata": {},
   "outputs": [
    {
     "data": {
      "text/plain": [
       "'June 28, 1971 '"
      ]
     },
     "execution_count": 28,
     "metadata": {},
     "output_type": "execute_result"
    }
   ],
   "source": [
    "get_pattern_match(r'Born.*\\n(.*)\\(age', text)"
   ]
  },
  {
   "cell_type": "code",
   "execution_count": 27,
   "id": "5c1402e9-e27e-4bad-aae7-41628e649308",
   "metadata": {},
   "outputs": [
    {
     "data": {
      "text/plain": [
       "'June 28, 1971'"
      ]
     },
     "execution_count": 27,
     "metadata": {},
     "output_type": "execute_result"
    }
   ],
   "source": [
    "get_pattern_match(r'Born.*\\n(.*)\\(age', text).strip()"
   ]
  },
  {
   "cell_type": "markdown",
   "id": "87724ebb-1e2b-4d55-8f88-f4e2f45e9d75",
   "metadata": {},
   "source": [
    "<b>Birthplace"
   ]
  },
  {
   "cell_type": "code",
   "execution_count": 29,
   "id": "580a1534-3681-41ed-8ce2-2417b9ac2fef",
   "metadata": {},
   "outputs": [
    {
     "data": {
      "text/plain": [
       "'Pretoria, Transvaal, South Africa'"
      ]
     },
     "execution_count": 29,
     "metadata": {},
     "output_type": "execute_result"
    }
   ],
   "source": [
    "get_pattern_match(r'\\(age.*\\n(.*)', text)"
   ]
  },
  {
   "cell_type": "markdown",
   "id": "d041b9d9-ba73-4540-8ecb-530414c1096d",
   "metadata": {},
   "source": [
    "<b>All at once"
   ]
  },
  {
   "cell_type": "code",
   "execution_count": 31,
   "id": "b097fa4e-3b27-40f1-a3c2-a9f7c0b240e1",
   "metadata": {},
   "outputs": [],
   "source": [
    "def extract_personal_information(text):\n",
    "    age = get_pattern_match(r'age (\\d+)', text)\n",
    "    full_name = get_pattern_match(r'Born(.*)\\n', text)\n",
    "    birth_date = get_pattern_match(r'Born.*\\n(.*)\\(age', text)\n",
    "    birth_place = get_pattern_match(r'\\(age.*\\n(.*)', text)\n",
    "    return {\n",
    "        'age': int(age),\n",
    "        'name': full_name.strip(),\n",
    "        'birth_date': birth_date.strip(),\n",
    "        'birth_place': birth_place.strip()\n",
    "    }"
   ]
  },
  {
   "cell_type": "code",
   "execution_count": 32,
   "id": "6073f2d0-d53d-4ce7-896b-befd705b13c3",
   "metadata": {},
   "outputs": [
    {
     "data": {
      "text/plain": [
       "{'age': 50,\n",
       " 'name': 'Elon Reeve Musk',\n",
       " 'birth_date': 'June 28, 1971',\n",
       " 'birth_place': 'Pretoria, Transvaal, South Africa'}"
      ]
     },
     "execution_count": 32,
     "metadata": {},
     "output_type": "execute_result"
    }
   ],
   "source": [
    "extract_personal_information(text)"
   ]
  },
  {
   "cell_type": "code",
   "execution_count": 33,
   "id": "ff0cf696-2437-4c22-9be0-01f4c3b88000",
   "metadata": {},
   "outputs": [],
   "source": [
    "text = '''\n",
    "Born\tWilliam Henry Gates III\n",
    "October 28, 1955 (age 68)\n",
    "Seattle, Washington, U.S.\n",
    "Nationality\tAmerican\n",
    "Alma mater\t\n",
    "Harvard University (drop-out)\n",
    "Occupation\tBusiness magnate, software developer, investor, philanthropist\n",
    "Spouse(s)\tMelinda French Gates ​(m. 1994; div. 2021)​\n",
    "Children\t3\n",
    "Parent(s)\t\n",
    "William H. Gates Sr. (father)\n",
    "Mary Maxwell Gates (mother)\n",
    "Relatives\tLibby Gates (sister)\n",
    "'''"
   ]
  },
  {
   "cell_type": "code",
   "execution_count": 34,
   "id": "832c0297-dd33-40b9-ba97-d24170b0882f",
   "metadata": {},
   "outputs": [
    {
     "data": {
      "text/plain": [
       "{'age': 68,\n",
       " 'name': 'William Henry Gates III',\n",
       " 'birth_date': 'October 28, 1955',\n",
       " 'birth_place': 'Seattle, Washington, U.S.'}"
      ]
     },
     "execution_count": 34,
     "metadata": {},
     "output_type": "execute_result"
    }
   ],
   "source": [
    "extract_personal_information(text)"
   ]
  }
 ],
 "metadata": {
  "kernelspec": {
   "display_name": "Python 3 (ipykernel)",
   "language": "python",
   "name": "python3"
  },
  "language_info": {
   "codemirror_mode": {
    "name": "ipython",
    "version": 3
   },
   "file_extension": ".py",
   "mimetype": "text/x-python",
   "name": "python",
   "nbconvert_exporter": "python",
   "pygments_lexer": "ipython3",
   "version": "3.12.2"
  }
 },
 "nbformat": 4,
 "nbformat_minor": 5
}
