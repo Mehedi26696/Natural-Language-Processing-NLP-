{
 "cells": [
  {
   "cell_type": "markdown",
   "id": "366cec3a-c397-47ca-bdb3-18c0ed43a405",
   "metadata": {},
   "source": [
    "<center><h1>Regular Expression</center>"
   ]
  },
  {
   "cell_type": "markdown",
   "id": "e4266137-3b26-4b47-91bb-6934af9711eb",
   "metadata": {},
   "source": [
    "Practice Website: https://regex101.com/"
   ]
  },
  {
   "cell_type": "code",
   "execution_count": 1,
   "id": "3b9de731-b11e-4c7f-847b-5beb5ea0a98f",
   "metadata": {},
   "outputs": [],
   "source": [
    "import re"
   ]
  },
  {
   "cell_type": "code",
   "execution_count": 2,
   "id": "82647870-fa64-4755-afb7-b244bffc9d0a",
   "metadata": {},
   "outputs": [],
   "source": [
    "text = '''\n",
    "Elon musk's phone number is 9991116666, call him if you have any questions on dodgecoin.Tesla's revenue is 40 billion.Tesla's CFO nu.mber is (732)-666-8888\n",
    "'''"
   ]
  },
  {
   "cell_type": "markdown",
   "id": "ab6844c9-fccd-4116-ba50-48ff321521b8",
   "metadata": {},
   "source": [
    "<b>For a digit"
   ]
  },
  {
   "cell_type": "code",
   "execution_count": 3,
   "id": "c3a12290-0afb-4681-8006-01ff549b5fe5",
   "metadata": {},
   "outputs": [],
   "source": [
    "pattern = r'\\d'"
   ]
  },
  {
   "cell_type": "code",
   "execution_count": 4,
   "id": "86e3fb61-9e4e-4059-96d7-d27e0a1af1ba",
   "metadata": {},
   "outputs": [
    {
     "data": {
      "text/plain": [
       "['9',\n",
       " '9',\n",
       " '9',\n",
       " '1',\n",
       " '1',\n",
       " '1',\n",
       " '6',\n",
       " '6',\n",
       " '6',\n",
       " '6',\n",
       " '4',\n",
       " '0',\n",
       " '7',\n",
       " '3',\n",
       " '2',\n",
       " '6',\n",
       " '6',\n",
       " '6',\n",
       " '8',\n",
       " '8',\n",
       " '8',\n",
       " '8']"
      ]
     },
     "execution_count": 4,
     "metadata": {},
     "output_type": "execute_result"
    }
   ],
   "source": [
    "matches = re.findall(pattern, text)\n",
    "matches"
   ]
  },
  {
   "cell_type": "code",
   "execution_count": 5,
   "id": "19b7f044-2430-4c2e-8aa0-268ac41bed9b",
   "metadata": {},
   "outputs": [],
   "source": [
    "pattern = r'[0-9]'"
   ]
  },
  {
   "cell_type": "code",
   "execution_count": 6,
   "id": "fc9ac7dd-b586-4da6-8e0d-5436d3f360e1",
   "metadata": {},
   "outputs": [
    {
     "data": {
      "text/plain": [
       "['9',\n",
       " '9',\n",
       " '9',\n",
       " '1',\n",
       " '1',\n",
       " '1',\n",
       " '6',\n",
       " '6',\n",
       " '6',\n",
       " '6',\n",
       " '4',\n",
       " '0',\n",
       " '7',\n",
       " '3',\n",
       " '2',\n",
       " '6',\n",
       " '6',\n",
       " '6',\n",
       " '8',\n",
       " '8',\n",
       " '8',\n",
       " '8']"
      ]
     },
     "execution_count": 6,
     "metadata": {},
     "output_type": "execute_result"
    }
   ],
   "source": [
    "matches = re.findall(pattern, text)\n",
    "matches"
   ]
  },
  {
   "cell_type": "markdown",
   "id": "3a1e8fe8-9f55-419b-bedd-e82dd047ed0b",
   "metadata": {},
   "source": [
    "<b>For phone number like 10 digits sequence"
   ]
  },
  {
   "cell_type": "code",
   "execution_count": 7,
   "id": "d5fcd794-986f-4946-b7f9-fc30e1011a70",
   "metadata": {},
   "outputs": [],
   "source": [
    "pattern = r'\\d{10}'"
   ]
  },
  {
   "cell_type": "code",
   "execution_count": 8,
   "id": "65a1416f-ef40-46bd-9cec-ad60c9860a5f",
   "metadata": {},
   "outputs": [
    {
     "data": {
      "text/plain": [
       "['9991116666']"
      ]
     },
     "execution_count": 8,
     "metadata": {},
     "output_type": "execute_result"
    }
   ],
   "source": [
    "matches = re.findall(pattern, text)\n",
    "matches"
   ]
  },
  {
   "cell_type": "code",
   "execution_count": 9,
   "id": "4b7df1f1-849e-4c46-8e2b-cdca1e983e6b",
   "metadata": {},
   "outputs": [],
   "source": [
    "pattern = r'[0-9]{10}'"
   ]
  },
  {
   "cell_type": "code",
   "execution_count": 10,
   "id": "bd2d49f4-95bd-4a8c-8fef-984141005714",
   "metadata": {},
   "outputs": [
    {
     "data": {
      "text/plain": [
       "['9991116666']"
      ]
     },
     "execution_count": 10,
     "metadata": {},
     "output_type": "execute_result"
    }
   ],
   "source": [
    "matches = re.findall(pattern, text)\n",
    "matches"
   ]
  },
  {
   "cell_type": "markdown",
   "id": "ca591ced-cc53-4945-b9fd-0dc01a97450a",
   "metadata": {},
   "source": [
    "<b>For number include bracket"
   ]
  },
  {
   "cell_type": "code",
   "execution_count": 11,
   "id": "38f14a95-839c-42ca-ad8f-22a54d4378bb",
   "metadata": {},
   "outputs": [],
   "source": [
    "pattern = r'\\(\\d{3}\\)-\\d{3}-\\d{4}'"
   ]
  },
  {
   "cell_type": "code",
   "execution_count": 12,
   "id": "73c1bd2c-2dd5-4cb1-b103-ce51bad2ff4f",
   "metadata": {},
   "outputs": [
    {
     "data": {
      "text/plain": [
       "['(732)-666-8888']"
      ]
     },
     "execution_count": 12,
     "metadata": {},
     "output_type": "execute_result"
    }
   ],
   "source": [
    "matches = re.findall(pattern, text)\n",
    "matches"
   ]
  },
  {
   "cell_type": "markdown",
   "id": "4a849bfe-465c-4f3f-942b-3b4769f4f1e5",
   "metadata": {},
   "source": [
    "<b>OR Operations"
   ]
  },
  {
   "cell_type": "code",
   "execution_count": 13,
   "id": "ba1e2b02-bad7-45f8-8a07-4f0de26e10ea",
   "metadata": {},
   "outputs": [],
   "source": [
    "pattern = r'\\(\\d{3}\\)-\\d{3}-\\d{4}|\\d{10}'"
   ]
  },
  {
   "cell_type": "code",
   "execution_count": 14,
   "id": "70a4c11a-b399-4cd0-aa1c-7966ff02e313",
   "metadata": {},
   "outputs": [
    {
     "data": {
      "text/plain": [
       "['9991116666', '(732)-666-8888']"
      ]
     },
     "execution_count": 14,
     "metadata": {},
     "output_type": "execute_result"
    }
   ],
   "source": [
    "matches = re.findall(pattern, text)\n",
    "matches"
   ]
  },
  {
   "cell_type": "markdown",
   "id": "32a560d9-cdb8-437e-b5c4-e41c2db84513",
   "metadata": {},
   "source": [
    "<b>Match Except some character"
   ]
  },
  {
   "cell_type": "code",
   "execution_count": 15,
   "id": "e15830ea-ef68-4849-a161-77cc57b22593",
   "metadata": {},
   "outputs": [],
   "source": [
    "text = '''\n",
    "fas;fset;cv-;tr;\n",
    "'''"
   ]
  },
  {
   "cell_type": "code",
   "execution_count": 16,
   "id": "f498c7db-b461-425f-82db-940776cade64",
   "metadata": {},
   "outputs": [],
   "source": [
    "pattern = r'[^;-]'"
   ]
  },
  {
   "cell_type": "code",
   "execution_count": 17,
   "id": "8d6d5573-ddb2-4cba-b0c4-49f7bb83ce65",
   "metadata": {},
   "outputs": [
    {
     "data": {
      "text/plain": [
       "['\\n', 'f', 'a', 's', 'f', 's', 'e', 't', 'c', 'v', 't', 'r', '\\n']"
      ]
     },
     "execution_count": 17,
     "metadata": {},
     "output_type": "execute_result"
    }
   ],
   "source": [
    "matches = re.findall(pattern, text)\n",
    "matches"
   ]
  },
  {
   "cell_type": "markdown",
   "id": "2a37032d-084b-4e23-b7b9-78589cab7b20",
   "metadata": {},
   "source": [
    "<b>Sequence"
   ]
  },
  {
   "cell_type": "code",
   "execution_count": 18,
   "id": "9280888d-597d-4081-b710-c418aa0c6adb",
   "metadata": {},
   "outputs": [],
   "source": [
    "pattern = r'[^;-]+'"
   ]
  },
  {
   "cell_type": "code",
   "execution_count": 19,
   "id": "358c1fa0-3aac-4178-9dcf-94605bb82066",
   "metadata": {},
   "outputs": [
    {
     "data": {
      "text/plain": [
       "['\\nfas', 'fset', 'cv', 'tr', '\\n']"
      ]
     },
     "execution_count": 19,
     "metadata": {},
     "output_type": "execute_result"
    }
   ],
   "source": [
    "matches = re.findall(pattern, text)\n",
    "matches"
   ]
  },
  {
   "cell_type": "markdown",
   "id": "89b4e3d6-58f3-4cbc-90e2-7efb50746b20",
   "metadata": {},
   "source": [
    "<b>Extract Note Titles\n",
    "<img src=\"tesla_report_notes.jpg\">"
   ]
  },
  {
   "cell_type": "code",
   "execution_count": 20,
   "id": "1e1b25e3-3581-4f12-a0dc-a6795c3b1a5b",
   "metadata": {},
   "outputs": [],
   "source": [
    "text = '''\n",
    "Note 1 - Overview\n",
    "Tesla, Inc. (“Tesla”, the “Company”, “we”, “us” or “our”) was incorporated in the State of Delaware on July 1, 2003. We design, develop, manufacture and sell high-performance fully electric vehicles and design, manufacture, install and sell solar energy generation and energy storage\n",
    "products. Our Chief Executive Officer, as the chief operating decision maker (“CODM”), organizes our company, manages resource allocations and measures performance among two operating and reportable segments: (i) automotive and (ii) energy generation and storage.\n",
    "Beginning in the first quarter of 2021, there has been a trend in many parts of the world of increasing availability and administration of vaccines\n",
    "against COVID-19, as well as an easing of restrictions on social, business, travel and government activities and functions. On the other hand, infection\n",
    "rates and regulations continue to fluctuate in various regions and there are ongoing global impacts resulting from the pandemic, including challenges\n",
    "and increases in costs for logistics and supply chains, such as increased port congestion, intermittent supplier delays and a shortfall of semiconductor\n",
    "supply. We have also previously been affected by temporary manufacturing closures, employment and compensation adjustments and impediments to\n",
    "administrative activities supporting our product deliveries and deployments.\n",
    "Note 2 - Summary of Significant Accounting Policies\n",
    "Unaudited Interim Financial Statements\n",
    "The consolidated balance sheet as of September 30, 2021, the consolidated statements of operations, the consolidated statements of\n",
    "comprehensive income, the consolidated statements of redeemable noncontrolling interests and equity for the three and nine months ended September\n",
    "30, 2021 and 2020 and the consolidated statements of cash flows for the nine months ended September 30, 2021 and 2020, as well as other information\n",
    "disclosed in the accompanying notes, are unaudited. The consolidated balance sheet as of December 31, 2020 was derived from the audited\n",
    "consolidated financial statements as of that date. The interim consolidated financial statements and the accompanying notes should be read in\n",
    "conjunction with the annual consolidated financial statements and the accompanying notes contained in our Annual Report on Form 10-K for the year\n",
    "ended December 31, 2020.\n",
    "Note 3 - \n",
    "Nice try\n",
    "'''"
   ]
  },
  {
   "cell_type": "markdown",
   "id": "4d58cc84-4ec8-4279-8668-4f7b14544d39",
   "metadata": {},
   "source": [
    "<b>One or More Sequence (+)"
   ]
  },
  {
   "cell_type": "code",
   "execution_count": 21,
   "id": "70611b88-0e48-43bd-be1e-ecc32a395f78",
   "metadata": {},
   "outputs": [],
   "source": [
    "pattern = r'Note \\d - [^\\n]+'"
   ]
  },
  {
   "cell_type": "code",
   "execution_count": 22,
   "id": "23c58691-a6ca-40f6-95d6-6e6da999c43a",
   "metadata": {},
   "outputs": [
    {
     "data": {
      "text/plain": [
       "['Note 1 - Overview', 'Note 2 - Summary of Significant Accounting Policies']"
      ]
     },
     "execution_count": 22,
     "metadata": {},
     "output_type": "execute_result"
    }
   ],
   "source": [
    "matches = re.findall(pattern, text)\n",
    "matches"
   ]
  },
  {
   "cell_type": "markdown",
   "id": "44db9cd2-cca2-4411-af16-8079c7351a6b",
   "metadata": {},
   "source": [
    "<b>Zero or More Sequence (+) means add blank"
   ]
  },
  {
   "cell_type": "code",
   "execution_count": 23,
   "id": "40bde66b-cd60-4ce1-859f-399aba95e84f",
   "metadata": {},
   "outputs": [],
   "source": [
    "pattern = r'Note \\d - [^\\n]*'"
   ]
  },
  {
   "cell_type": "code",
   "execution_count": 24,
   "id": "ba7c9aea-86bd-4476-b997-d76d1b37ea7f",
   "metadata": {},
   "outputs": [
    {
     "data": {
      "text/plain": [
       "['Note 1 - Overview',\n",
       " 'Note 2 - Summary of Significant Accounting Policies',\n",
       " 'Note 3 - ']"
      ]
     },
     "execution_count": 24,
     "metadata": {},
     "output_type": "execute_result"
    }
   ],
   "source": [
    "matches = re.findall(pattern, text)\n",
    "matches"
   ]
  },
  {
   "cell_type": "markdown",
   "id": "8d4ed301-133e-41fe-aed9-29d22e420917",
   "metadata": {},
   "source": [
    "<b>Only Title just"
   ]
  },
  {
   "cell_type": "code",
   "execution_count": 25,
   "id": "72360c16-580b-497f-b84b-1496f2c2cfe3",
   "metadata": {},
   "outputs": [],
   "source": [
    "pattern = r'Note \\d - ([^\\n]+)'"
   ]
  },
  {
   "cell_type": "code",
   "execution_count": 26,
   "id": "f3107eb3-6c19-4c48-9507-a20701d32dba",
   "metadata": {},
   "outputs": [
    {
     "data": {
      "text/plain": [
       "['Overview', 'Summary of Significant Accounting Policies']"
      ]
     },
     "execution_count": 26,
     "metadata": {},
     "output_type": "execute_result"
    }
   ],
   "source": [
    "matches = re.findall(pattern, text)\n",
    "matches"
   ]
  },
  {
   "cell_type": "code",
   "execution_count": 27,
   "id": "28e023d4-d5a0-4250-9632-a5086b3ec7ca",
   "metadata": {},
   "outputs": [
    {
     "data": {
      "text/plain": [
       "'Summary of Significant Accounting Policies'"
      ]
     },
     "execution_count": 27,
     "metadata": {},
     "output_type": "execute_result"
    }
   ],
   "source": [
    "matches[1]"
   ]
  },
  {
   "cell_type": "code",
   "execution_count": 28,
   "id": "fbf40429-2ea5-4160-98db-ecb888707181",
   "metadata": {},
   "outputs": [],
   "source": [
    "pattern = r'Note \\d - ([^\\n]*)'"
   ]
  },
  {
   "cell_type": "code",
   "execution_count": 29,
   "id": "b1058376-337c-40f2-8a5e-6a6da47fbaaf",
   "metadata": {},
   "outputs": [
    {
     "data": {
      "text/plain": [
       "['Overview', 'Summary of Significant Accounting Policies', '']"
      ]
     },
     "execution_count": 29,
     "metadata": {},
     "output_type": "execute_result"
    }
   ],
   "source": [
    "matches = re.findall(pattern, text)\n",
    "matches"
   ]
  },
  {
   "cell_type": "markdown",
   "id": "a878b2e4-87b2-4d3f-9a46-f4f7e6882f56",
   "metadata": {},
   "source": [
    "<b>Extract financial periods from a company's financial reporting"
   ]
  },
  {
   "cell_type": "code",
   "execution_count": 30,
   "id": "0635af38-551c-4c33-8fd9-2331006a3c2c",
   "metadata": {},
   "outputs": [],
   "source": [
    "text = '''\n",
    "The gross cost of operating lease vehicles in FY2021 Q1 was $4.85 billion.\n",
    "In previous quarter i.e. FY2020 Q4 it was $3 billion. \n",
    "'''"
   ]
  },
  {
   "cell_type": "code",
   "execution_count": 31,
   "id": "4e4ba94c-3502-4e4e-bc01-aa70ac19f8ef",
   "metadata": {},
   "outputs": [],
   "source": [
    "pattern = r'FY\\d{4} Q[1-4]'"
   ]
  },
  {
   "cell_type": "code",
   "execution_count": 32,
   "id": "c7427fb7-1367-4c65-933f-3b6973ebc137",
   "metadata": {},
   "outputs": [
    {
     "data": {
      "text/plain": [
       "['FY2021 Q1', 'FY2020 Q4']"
      ]
     },
     "execution_count": 32,
     "metadata": {},
     "output_type": "execute_result"
    }
   ],
   "source": [
    "matches = re.findall(pattern, text)\n",
    "matches"
   ]
  },
  {
   "cell_type": "markdown",
   "id": "1e1ad16c-27fb-40c0-ad55-9755692e4348",
   "metadata": {},
   "source": [
    "<b>Case insensitive pattern match using flags"
   ]
  },
  {
   "cell_type": "code",
   "execution_count": 33,
   "id": "76832abd-3be7-4c01-86b6-d7a6de90f7bc",
   "metadata": {},
   "outputs": [],
   "source": [
    "text = '''\n",
    "The gross cost of operating lease vehicles in FY2021 Q1 was $4.85 billion.\n",
    "In previous quarter i.e. fy2020 Q4 it was $3 billion. \n",
    "'''"
   ]
  },
  {
   "cell_type": "code",
   "execution_count": 34,
   "id": "fa4742b4-4a33-4bc1-a320-391520b8aaa9",
   "metadata": {},
   "outputs": [],
   "source": [
    "pattern = r'FY\\d{4} Q[1-4]'"
   ]
  },
  {
   "cell_type": "code",
   "execution_count": 35,
   "id": "ad22dde6-c757-47b9-bab4-299d1b9b906f",
   "metadata": {},
   "outputs": [
    {
     "data": {
      "text/plain": [
       "['FY2021 Q1']"
      ]
     },
     "execution_count": 35,
     "metadata": {},
     "output_type": "execute_result"
    }
   ],
   "source": [
    "matches = re.findall(pattern, text)\n",
    "matches"
   ]
  },
  {
   "cell_type": "code",
   "execution_count": 36,
   "id": "0723ede8-1543-4d28-be6f-3825c5279b2d",
   "metadata": {},
   "outputs": [
    {
     "data": {
      "text/plain": [
       "['FY2021 Q1', 'fy2020 Q4']"
      ]
     },
     "execution_count": 36,
     "metadata": {},
     "output_type": "execute_result"
    }
   ],
   "source": [
    "matches = re.findall(pattern, text,flags=re.IGNORECASE)\n",
    "matches"
   ]
  },
  {
   "cell_type": "markdown",
   "id": "2e544e0e-868a-46d3-b9ab-e6434218c03a",
   "metadata": {},
   "source": [
    "<b>Only Year"
   ]
  },
  {
   "cell_type": "code",
   "execution_count": 37,
   "id": "85a5bb84-86c7-4ead-982b-8d50f5395700",
   "metadata": {},
   "outputs": [],
   "source": [
    "pattern = r'FY(\\d{4} Q[1-4])'"
   ]
  },
  {
   "cell_type": "code",
   "execution_count": 38,
   "id": "a73795da-4f2b-44cd-aaf8-e4e73581bc98",
   "metadata": {},
   "outputs": [
    {
     "data": {
      "text/plain": [
       "['2021 Q1', '2020 Q4']"
      ]
     },
     "execution_count": 38,
     "metadata": {},
     "output_type": "execute_result"
    }
   ],
   "source": [
    "matches = re.findall(pattern, text,flags=re.IGNORECASE)\n",
    "matches"
   ]
  },
  {
   "cell_type": "markdown",
   "id": "7ac93a0b-0f5e-40bf-a871-f188c38419a2",
   "metadata": {},
   "source": [
    "<b>Extract only financial numbers"
   ]
  },
  {
   "cell_type": "code",
   "execution_count": 39,
   "id": "3bda9b72-7159-4762-ad04-f689944fd62f",
   "metadata": {},
   "outputs": [],
   "source": [
    "text = '''\n",
    "Tesla's gross cost of operating lease vehicles in FY2021 Q1 was $4.85 billion. \n",
    "In previous quarter i.e. FY2020 Q4 it was $3 billion.\n",
    "'''"
   ]
  },
  {
   "cell_type": "code",
   "execution_count": 40,
   "id": "656eedb3-5da9-4b93-a746-90d3138da0c2",
   "metadata": {},
   "outputs": [],
   "source": [
    "pattern = r'\\$[0-9\\.]+'"
   ]
  },
  {
   "cell_type": "code",
   "execution_count": 41,
   "id": "7f3f8f12-a3f6-479d-a49c-084d5fef15e9",
   "metadata": {},
   "outputs": [
    {
     "data": {
      "text/plain": [
       "['$4.85', '$3']"
      ]
     },
     "execution_count": 41,
     "metadata": {},
     "output_type": "execute_result"
    }
   ],
   "source": [
    "matches = re.findall(pattern, text)\n",
    "matches"
   ]
  },
  {
   "cell_type": "code",
   "execution_count": 42,
   "id": "d08394df-9a87-4c91-b90f-b520547f9db5",
   "metadata": {},
   "outputs": [],
   "source": [
    "pattern = r'\\$([0-9\\.]+)'"
   ]
  },
  {
   "cell_type": "code",
   "execution_count": 43,
   "id": "647b3a6b-c739-4557-ba88-2969a30af6fd",
   "metadata": {},
   "outputs": [
    {
     "data": {
      "text/plain": [
       "['4.85', '3']"
      ]
     },
     "execution_count": 43,
     "metadata": {},
     "output_type": "execute_result"
    }
   ],
   "source": [
    "matches = re.findall(pattern, text)\n",
    "matches"
   ]
  },
  {
   "cell_type": "markdown",
   "id": "213c4119-7530-4cf2-bc16-bec0fd09713a",
   "metadata": {},
   "source": [
    "<b>Extract financial periods and financial numbers both"
   ]
  },
  {
   "cell_type": "code",
   "execution_count": 44,
   "id": "5bc66a59-4ee0-48ce-a3ba-5760f4ff9941",
   "metadata": {},
   "outputs": [],
   "source": [
    "text = '''\n",
    "Tesla's gross cost of operating lease vehicles in FY2021 Q1 was $4.85 billion. \n",
    "In previous quarter i.e. FY2020 Q4 it was $3 billion.\n",
    "'''"
   ]
  },
  {
   "cell_type": "code",
   "execution_count": 45,
   "id": "761bf90e-53b6-4b9e-82b5-d782345239af",
   "metadata": {},
   "outputs": [],
   "source": [
    "pattern = r'FY(\\d{4} Q[1-4])[^\\$]+\\$([0-9\\.]+)'"
   ]
  },
  {
   "cell_type": "code",
   "execution_count": 46,
   "id": "8a73594c-8a03-493f-a7e8-797e710ee42c",
   "metadata": {},
   "outputs": [
    {
     "data": {
      "text/plain": [
       "[('2021 Q1', '4.85'), ('2020 Q4', '3')]"
      ]
     },
     "execution_count": 46,
     "metadata": {},
     "output_type": "execute_result"
    }
   ],
   "source": [
    "matches = re.findall(pattern, text)\n",
    "matches"
   ]
  },
  {
   "cell_type": "markdown",
   "id": "70a99e0f-c2b2-400f-a726-33f0093859bc",
   "metadata": {},
   "source": [
    "<b>Search First Occurence"
   ]
  },
  {
   "cell_type": "code",
   "execution_count": 47,
   "id": "d8d1c23b-f8b5-4fc1-9520-c9d52aedd371",
   "metadata": {},
   "outputs": [],
   "source": [
    "text = '''\n",
    "Tesla's gross cost of operating lease vehicles in FY2021 Q1 ljh lsj a 123 was $4.85 billion. Same number for FY2020 Q4 was $8 billion\n",
    "'''"
   ]
  },
  {
   "cell_type": "code",
   "execution_count": 48,
   "id": "f3446aef-bd7d-4cf1-9438-e8b9987313e6",
   "metadata": {},
   "outputs": [],
   "source": [
    "pattern = r'FY(\\d{4} Q[1-4])[^\\$]+\\$([0-9\\.]+)'"
   ]
  },
  {
   "cell_type": "code",
   "execution_count": 49,
   "id": "fcfe9446-daf2-427d-b3bc-9ccd799eacbb",
   "metadata": {},
   "outputs": [
    {
     "data": {
      "text/plain": [
       "<re.Match object; span=(51, 84), match='FY2021 Q1 ljh lsj a 123 was $4.85'>"
      ]
     },
     "execution_count": 49,
     "metadata": {},
     "output_type": "execute_result"
    }
   ],
   "source": [
    "matches = re.search(pattern, text)\n",
    "matches"
   ]
  },
  {
   "cell_type": "code",
   "execution_count": 50,
   "id": "574afb6e-a6b7-45fb-a964-7d588f5cd288",
   "metadata": {},
   "outputs": [
    {
     "data": {
      "text/plain": [
       "('2021 Q1', '4.85')"
      ]
     },
     "execution_count": 50,
     "metadata": {},
     "output_type": "execute_result"
    }
   ],
   "source": [
    "matches.groups()"
   ]
  },
  {
   "cell_type": "markdown",
   "id": "1bc4785f-7503-4a9f-9798-acc941c5d384",
   "metadata": {},
   "source": [
    "<b>Extract all twitter handles from following text"
   ]
  },
  {
   "cell_type": "code",
   "execution_count": 51,
   "id": "456f7abd-591f-4f3c-bcdd-a1f9e740a3a3",
   "metadata": {},
   "outputs": [],
   "source": [
    "text = '''\n",
    "Follow our leader Elon musk on twitter here: https://twitter.com/elonmusk, more information \n",
    "on Tesla's products can be found at https://www.tesla.com/. Also here are leading influencers \n",
    "for tesla related news,\n",
    "https://twitter.com/teslarati\n",
    "https://twitter.com/dummy_tesla\n",
    "https://twitter.com/dummy_2_tesla\n",
    "'''"
   ]
  },
  {
   "cell_type": "code",
   "execution_count": 52,
   "id": "d1aaea32-c40e-4950-a4f0-ba370c02cff2",
   "metadata": {},
   "outputs": [],
   "source": [
    "pattern = r'https://twitter\\.com/([a-zA-Z0-9_]+)'"
   ]
  },
  {
   "cell_type": "code",
   "execution_count": 53,
   "id": "3de3ff23-dd79-4ac7-9896-757d592cba52",
   "metadata": {},
   "outputs": [
    {
     "data": {
      "text/plain": [
       "['elonmusk', 'teslarati', 'dummy_tesla', 'dummy_2_tesla']"
      ]
     },
     "execution_count": 53,
     "metadata": {},
     "output_type": "execute_result"
    }
   ],
   "source": [
    "matches = re.findall(pattern, text)\n",
    "matches"
   ]
  },
  {
   "cell_type": "markdown",
   "id": "3c2370c9-61d2-4b0d-87fd-0b1ffda861af",
   "metadata": {},
   "source": [
    "<b>Extract Concentration Risk Types. It will be a text that appears after \"Concentration Risk:\", In below example, your regex should extract these two strings"
   ]
  },
  {
   "cell_type": "markdown",
   "id": "9c9ab95a-59b3-4116-8fd4-fd1a65b89ac2",
   "metadata": {},
   "source": [
    "(1) Credit Risk\n",
    "\n",
    "(2) Supply Risk"
   ]
  },
  {
   "cell_type": "code",
   "execution_count": 54,
   "id": "564e45c6-d801-4fdc-bd97-c4823dfd4c8a",
   "metadata": {},
   "outputs": [],
   "source": [
    "text = '''\n",
    "Concentration of Risk: Credit Risk\n",
    "Financial instruments that potentially subject us to a concentration of credit risk consist of cash, cash equivalents, marketable securities,\n",
    "restricted cash, accounts receivable, convertible note hedges, and interest rate swaps. Our cash balances are primarily invested in money market funds\n",
    "or on deposit at high credit quality financial institutions in the U.S. These deposits are typically in excess of insured limits. As of September 30, 2021\n",
    "and December 31, 2020, no entity represented 10% or more of our total accounts receivable balance. The risk of concentration for our convertible note\n",
    "hedges and interest rate swaps is mitigated by transacting with several highly-rated multinational banks.\n",
    "Concentration of Risk: Supply Risk\n",
    "We are dependent on our suppliers, including single source suppliers, and the inability of these suppliers to deliver necessary components of our\n",
    "products in a timely manner at prices, quality levels and volumes acceptable to us, or our inability to efficiently manage these components from these\n",
    "suppliers, could have a material adverse effect on our business, prospects, financial condition and operating results.\n",
    "'''"
   ]
  },
  {
   "cell_type": "code",
   "execution_count": 55,
   "id": "4aeb7376-8b3a-45c5-a728-df0c49722fc7",
   "metadata": {},
   "outputs": [],
   "source": [
    "pattern = 'Concentration of Risk: ([^\\n]*)'"
   ]
  },
  {
   "cell_type": "code",
   "execution_count": 56,
   "id": "40739fd1-9c11-401f-817d-173b33048be6",
   "metadata": {},
   "outputs": [
    {
     "data": {
      "text/plain": [
       "['Credit Risk', 'Supply Risk']"
      ]
     },
     "execution_count": 56,
     "metadata": {},
     "output_type": "execute_result"
    }
   ],
   "source": [
    "matches = re.findall(pattern, text)\n",
    "matches"
   ]
  },
  {
   "cell_type": "markdown",
   "id": "f4015a34-886d-433d-8009-c1f2e0312837",
   "metadata": {},
   "source": [
    "<b>Companies in europe reports their financial numbers of semi annual basis and you can have a document like this. To exatract quarterly and semin annual period you can use a regex as shown below"
   ]
  },
  {
   "cell_type": "code",
   "execution_count": 57,
   "id": "4591a791-0304-4c3a-98a4-b2c855bae2cd",
   "metadata": {},
   "outputs": [],
   "source": [
    "text = '''\n",
    "Tesla's gross cost of operating lease vehicles in FY2021 Q1 was $4.85 billion.\n",
    "BMW's gross cost of operating vehicles in FY2021 S1 was $8 billion.\n",
    "'''"
   ]
  },
  {
   "cell_type": "code",
   "execution_count": 58,
   "id": "830525e7-986f-4dd1-9294-11022adee4ce",
   "metadata": {},
   "outputs": [],
   "source": [
    "pattern = r'FY(\\d{4} (?:Q[1-4]|S[1-2]))'"
   ]
  },
  {
   "cell_type": "code",
   "execution_count": 59,
   "id": "f9c6b8cb-8f2e-48da-9008-159822d2e4a8",
   "metadata": {},
   "outputs": [
    {
     "data": {
      "text/plain": [
       "['2021 Q1', '2021 S1']"
      ]
     },
     "execution_count": 59,
     "metadata": {},
     "output_type": "execute_result"
    }
   ],
   "source": [
    "matches = re.findall(pattern, text)\n",
    "matches"
   ]
  }
 ],
 "metadata": {
  "kernelspec": {
   "display_name": "Python 3 (ipykernel)",
   "language": "python",
   "name": "python3"
  },
  "language_info": {
   "codemirror_mode": {
    "name": "ipython",
    "version": 3
   },
   "file_extension": ".py",
   "mimetype": "text/x-python",
   "name": "python",
   "nbconvert_exporter": "python",
   "pygments_lexer": "ipython3",
   "version": "3.12.2"
  }
 },
 "nbformat": 4,
 "nbformat_minor": 5
}
